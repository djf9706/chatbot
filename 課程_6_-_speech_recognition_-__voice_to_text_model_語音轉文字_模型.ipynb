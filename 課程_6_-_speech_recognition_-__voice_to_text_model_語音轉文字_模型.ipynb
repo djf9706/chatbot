{
 "cells": [
  {
   "cell_type": "markdown",
   "metadata": {},
   "source": [
    "<h1 align='center' style='color:purple'> Speech Recognition 語音識別 - 課程 6-  Voice to text model 語音轉文字 模型 - Python Tutorial</h1>"
   ]
  },
  {
   "cell_type": "raw",
   "metadata": {},
   "source": [
    "'''\n",
    "\n",
    "人工智慧-深度學習\n",
    "\n",
    "A.I Tutorials \n",
    "Deep Learning 教程 \n",
    "\n",
    "''' \n",
    "\n",
    "    04 - 課程    - Speech Recognition 語音識別\n",
    "\n",
    "         課程 06 - Speech Recognition \n",
    "                            - \n",
    "         \n",
    "         課程 06 - 語音識別  - Voice to text model - Convolutional neural network Model \n",
    "                                             \n",
    "                   程式範例  - 語音轉文字 模型  - 捲積神經網路  模型                   \n",
    "                                                     \n",
    "'''  教程簡介 '''\n",
    "'''  語音識別 '''\n",
    "\n",
    "''' "
   ]
  },
  {
   "cell_type": "raw",
   "metadata": {},
   "source": [
    "'''\n",
    "\n",
    ">> 資料準備\n",
    "\n",
    "    >> 你我互動學習園地\n",
    "        >> https://interactiveuandmetutorials.weebly.com/\n",
    "    \n",
    "    >> Python 程式語言 設計\n",
    "       >> https://pythonprogrammingtutorials.weebly.com/\n",
    "\n",
    "\n",
    ">>Datasets \n",
    "    >> https://www.kaggle.com/c/tensorflow-speech-recognition-challenge/data\n",
    "\n",
    "\n",
    ">> 檔案路徑目錄結構 -\n",
    "    ├──  課程 6- Voice to text model 語音轉文字 模型\n",
    "    ├──    input\\\n",
    "    ├──       ├──tensorflow-speech-recognition-challenge                \n",
    "    ├──            ├──train\n",
    "    ├──                ├── audio\n",
    "    ├──                   ├── bed\n",
    "    ├──                   ├── bird \n",
    "    ├──                   ├── etc..\n",
    "    ├──                      \n",
    "    ├──    input\\ \n",
    "    ├──       ├──voice-commands\n",
    "    ├──            ├── preteek_voice_v2\n",
    "    ├──                ├── stop.wave\n",
    "    ├──                          \n",
    "    ├──    yes.wav\n",
    " \n",
    "'''"
   ]
  },
  {
   "cell_type": "raw",
   "metadata": {},
   "source": [
    "'''\n",
    "\n",
    ">> 下載數據集 - Download the Dataset \n",
    "    >> 數據集 - Datasets \n",
    "        >> https://www.kaggle.com/c/tensorflow-speech-recognition-challenge/data  \n",
    "        \n",
    "        >> http://download.tensorflow.org/data/speech_commands_v0.01.tar.gz\n",
    "\n",
    "\n",
    "        >> 語音命令數據集 v0.01\n",
    "        >> 是一組 一秒鐘的.wav 音頻文件\n",
    "            >> 每個文件 都包含一個單獨的 英語單詞\n",
    "                >> 這些詞 來自 一小組命令\n",
    "                >> 並且由各種不同的說話者 說出\n",
    "                >> 音頻文件 根據它們包含的單詞被組織到文件夾中\n",
    "                >> 數據集\n",
    "                    >> 在幫助訓練簡單的 機器學習模型\n",
    "                    \n",
    "         >> 核心詞\n",
    "             >> “是”，“否”，“上”，“下”，“左”，“右”，“開”，“關”,“停止”，“前進”\n",
    "             >> “零”，“一個” ”，“兩個”，“三個”，“四個”，“五個”，“六個”，“七個”，“八個”和“九個”\n",
    "             >> 為了幫助區分無法識別的單詞\n",
    "                 >> 還有十個輔助單詞，大多數發言者只說了一次\n",
    "                     >> “床”，“鳥”，“貓”，“狗”，“快樂”，“房子”，“馬文”，“希拉”，“樹”和“哇”           \n",
    "\n",
    "         >>  Core Words \n",
    "             >> \"Yes\", \"No\", \"Up\", \"Down\", \"Left\", \"Right\", \"On\", \"Off\", \"Stop\", \"Go\",\n",
    "             >> \"Zero\", \"One\", \"Two\", \"Three\", \"Four\", \"Five\", \"Six\", \"Seven\", \"Eight\", and \"Nine\". \n",
    "                 >> To help distinguish unrecognized words,\n",
    "                 >> there are also ten auxiliary words, which most speakers only said once\n",
    "                     >> \"Bed\", \"Bird\", \"Cat\", \"Dog\", \"Happy\", \"House\", \"Marvin\", \"Sheila\", \"Tree\", and \"Wow\"\n",
    "\n",
    "\n",
    "'''"
   ]
  },
  {
   "cell_type": "raw",
   "metadata": {},
   "source": [
    "'''\n",
    "\n",
    ">> Speech - Text \n",
    "    >> 語音 - 文本/文字\n",
    "\n",
    "'''"
   ]
  },
  {
   "cell_type": "markdown",
   "metadata": {},
   "source": [
    "<img src=\"https://i1.wp.com/www.simplifiedpython.net/wp-content/uploads/2018/07/speech-recognition-python.png?w=556&ssl=1\" width=\"50%\"> "
   ]
  },
  {
   "cell_type": "markdown",
   "metadata": {},
   "source": [
    "<img src=\"https://cdn.ttgtmedia.com/rms/onlineImages/crm-voice_recognition_mobile.png\" width=\"50%\"> "
   ]
  },
  {
   "cell_type": "markdown",
   "metadata": {},
   "source": [
    "<img src=\"https://i1.wp.com/www.simplifiedpython.net/wp-content/uploads/2018/07/speech-recognition-python-1.png?w=682&ssl=1\" width=\"50%\"> "
   ]
  },
  {
   "cell_type": "raw",
   "metadata": {},
   "source": [
    "'''\n",
    "\n",
    ">> 語音識別 的方法 \n",
    "    >> The approach used in this example for speaker identification is shown in the diagram\n",
    "\n",
    "'''"
   ]
  },
  {
   "cell_type": "markdown",
   "metadata": {},
   "source": [
    "<img src=\"https://www.mathworks.com/help/examples/audio_wavelet/win64/xxSpeakerID01.png\" width=\"100%\"> "
   ]
  },
  {
   "cell_type": "raw",
   "metadata": {},
   "source": [
    "'''\n",
    "\n",
    ">> 音頻信號 - Audio Signal\n",
    "\n",
    "'''"
   ]
  },
  {
   "cell_type": "markdown",
   "metadata": {},
   "source": [
    "<img src=\"https://i2.wp.com/s3-ap-south-1.amazonaws.com/av-blog-media/wp-content/uploads/2019/07/originofsound.gif?zoom=1.25&resize=591%2C213&ssl=1\" width=\"100%\"> "
   ]
  },
  {
   "cell_type": "raw",
   "metadata": {},
   "source": [
    "'''\n",
    "\n",
    ">> 預處理 -  採樣聲音數據\n",
    "    >> Pre-processing our Sampled Sound Data\n",
    "    >> 有一個數字數組，每個數字代表聲波的振幅，以1/16,000秒為間隔\n",
    "    \n",
    "    >>音頻數據 進行一些 預處理\n",
    "        >> 這些數字 - 輸入神經網絡\n",
    "        \n",
    "'''"
   ]
  },
  {
   "cell_type": "raw",
   "metadata": {},
   "source": [
    " '''\n",
    " \n",
    "    >> 分析音頻信號 - Analyzing audio signals\n",
    "    \n",
    "'''    "
   ]
  },
  {
   "cell_type": "markdown",
   "metadata": {},
   "source": [
    "<img src=\"https://raw.githubusercontent.com/MITESHPUTHRANNEU/Speech-Emotion-Analyzer/master/images/joomla_speech_prosody.png\" width=\"100%\"> "
   ]
  },
  {
   "cell_type": "raw",
   "metadata": {},
   "source": [
    "'''\n",
    ">> 頻譜圖 - Spectrogram\n",
    "    >> MFCC Coefficienrts - 係數\n",
    "\n",
    "    >> 從 語音信號中 提取的特徵\n",
    "        >> Features extracted from speech signals\n",
    "\n",
    "'''"
   ]
  },
  {
   "cell_type": "markdown",
   "metadata": {},
   "source": [
    "<img src=\"https://miro.medium.com/max/2144/1*pzE4i1TXaLCmzTXgdxFZjQ.jpeg\" width=\"100%\"> "
   ]
  },
  {
   "cell_type": "raw",
   "metadata": {},
   "source": [
    "'''\n",
    "\n",
    ">> LibROSA\n",
    "    >> LibROSA - 用於 音樂和 音頻分析的 python- Liberary package\n",
    "        >> 提供了創建音樂信息檢索系統- 必需的構造塊\n",
    "        \n",
    "    >> https://librosa.github.io/librosa/#\n",
    "\n",
    ">> Scipy \n",
    "    >> https://scipy.org/\n",
    "    \n",
    "'''"
   ]
  },
  {
   "cell_type": "raw",
   "metadata": {},
   "source": [
    "'''\n",
    "\n",
    ">> 導入相關的 庫\n",
    "    >> Import Relative the Libraries\n",
    "\n",
    "'''"
   ]
  },
  {
   "cell_type": "code",
   "execution_count": 3,
   "metadata": {},
   "outputs": [
    {
     "name": "stdout",
     "output_type": "stream",
     "text": [
      " 磁碟區 C 中的磁碟是 OS\n",
      " 磁碟區序號:  68E3-32FD\n",
      "\n",
      " C:\\Users\\calvi\\OneDrive\\桌面\\SR0607080910\\SRCourse6 的目錄\n",
      "\n",
      "2019/10/01  上午 10:36    <DIR>          .\n",
      "2019/10/01  上午 10:36    <DIR>          ..\n",
      "2019/10/01  上午 09:57    <DIR>          .ipynb_checkpoints\n",
      "2019/10/01  上午 09:17    <DIR>          input\n",
      "               0 個檔案               0 位元組\n",
      "               4 個目錄  27,505,258,496 位元組可用\n"
     ]
    }
   ],
   "source": [
    "ddir"
   ]
  },
  {
   "cell_type": "code",
   "execution_count": 4,
   "metadata": {},
   "outputs": [
    {
     "name": "stdout",
     "output_type": "stream",
     "text": [
      "C:\\Users\\calvi\\OneDrive\\桌面\\SR0607080910\\SRCourse6\\input\n"
     ]
    }
   ],
   "source": [
    "cd input"
   ]
  },
  {
   "cell_type": "code",
   "execution_count": 5,
   "metadata": {},
   "outputs": [
    {
     "name": "stdout",
     "output_type": "stream",
     "text": [
      " 磁碟區 C 中的磁碟是 OS\n",
      " 磁碟區序號:  68E3-32FD\n",
      "\n",
      " C:\\Users\\calvi\\OneDrive\\桌面\\SR0607080910\\SRCourse6\\input 的目錄\n",
      "\n",
      "2019/10/01  上午 09:17    <DIR>          .\n",
      "2019/10/01  上午 09:17    <DIR>          ..\n",
      "2019/09/27  上午 11:28    <DIR>          tensorflow-speech-recognition-challenge\n",
      "2019/09/27  下午 03:24    <DIR>          voice-commands\n",
      "               0 個檔案               0 位元組\n",
      "               4 個目錄  27,495,821,312 位元組可用\n"
     ]
    }
   ],
   "source": [
    "ddir"
   ]
  },
  {
   "cell_type": "code",
   "execution_count": 9,
   "metadata": {},
   "outputs": [
    {
     "name": "stdout",
     "output_type": "stream",
     "text": [
      "[WinError 2] 系統找不到指定的檔案。: 'tensorflow-speech-recognition-challenge'\n",
      "C:\\Users\\calvi\\OneDrive\\桌面\\SR0607080910\\SRCourse6\\input\\tensorflow-speech-recognition-challenge\n"
     ]
    }
   ],
   "source": [
    "cd tensorflow-speech-recognition-challenge"
   ]
  },
  {
   "cell_type": "code",
   "execution_count": 11,
   "metadata": {},
   "outputs": [
    {
     "name": "stdout",
     "output_type": "stream",
     "text": [
      " 磁碟區 C 中的磁碟是 OS\n",
      " 磁碟區序號:  68E3-32FD\n",
      "\n",
      " C:\\Users\\calvi\\OneDrive\\桌面\\SR0607080910\\SRCourse6\\input\\tensorflow-speech-recognition-challenge 的目錄\n",
      "\n",
      "2019/09/27  上午 11:28    <DIR>          .\n",
      "2019/09/27  上午 11:28    <DIR>          ..\n",
      "2019/09/27  上午 11:30    <DIR>          train\n",
      "               0 個檔案               0 位元組\n",
      "               3 個目錄  27,482,644,480 位元組可用\n"
     ]
    }
   ],
   "source": [
    "ls"
   ]
  },
  {
   "cell_type": "code",
   "execution_count": 12,
   "metadata": {},
   "outputs": [
    {
     "name": "stdout",
     "output_type": "stream",
     "text": [
      "C:\\Users\\calvi\\OneDrive\\桌面\\SR0607080910\\SRCourse6\\input\\tensorflow-speech-recognition-challenge\\train\n"
     ]
    }
   ],
   "source": [
    "cd train"
   ]
  },
  {
   "cell_type": "code",
   "execution_count": 13,
   "metadata": {},
   "outputs": [
    {
     "name": "stdout",
     "output_type": "stream",
     "text": [
      " 磁碟區 C 中的磁碟是 OS\n",
      " 磁碟區序號:  68E3-32FD\n",
      "\n",
      " C:\\Users\\calvi\\OneDrive\\桌面\\SR0607080910\\SRCourse6\\input\\tensorflow-speech-recognition-challenge\\train 的目錄\n",
      "\n",
      "2019/09/27  上午 11:30    <DIR>          .\n",
      "2019/09/27  上午 11:30    <DIR>          ..\n",
      "2019/09/27  下午 01:20    <DIR>          audio\n",
      "               0 個檔案               0 位元組\n",
      "               3 個目錄  27,481,825,280 位元組可用\n"
     ]
    }
   ],
   "source": [
    "ls"
   ]
  },
  {
   "cell_type": "code",
   "execution_count": 14,
   "metadata": {},
   "outputs": [
    {
     "name": "stdout",
     "output_type": "stream",
     "text": [
      "C:\\Users\\calvi\\OneDrive\\桌面\\SR0607080910\\SRCourse6\\input\\tensorflow-speech-recognition-challenge\\train\\audio\n"
     ]
    }
   ],
   "source": [
    "cd audio"
   ]
  },
  {
   "cell_type": "code",
   "execution_count": 15,
   "metadata": {
    "scrolled": true
   },
   "outputs": [
    {
     "name": "stdout",
     "output_type": "stream",
     "text": [
      " 磁碟區 C 中的磁碟是 OS\n",
      " 磁碟區序號:  68E3-32FD\n",
      "\n",
      " C:\\Users\\calvi\\OneDrive\\桌面\\SR0607080910\\SRCourse6\\input\\tensorflow-speech-recognition-challenge\\train\\audio 的目錄\n",
      "\n",
      "2019/09/27  下午 01:20    <DIR>          .\n",
      "2019/09/27  下午 01:20    <DIR>          ..\n",
      "2019/09/27  下午 01:08    <DIR>          bed\n",
      "2019/09/27  下午 01:09    <DIR>          bird\n",
      "2019/09/27  下午 01:09    <DIR>          cat\n",
      "2019/09/27  下午 01:10    <DIR>          dog\n",
      "2019/09/27  上午 11:59    <DIR>          down\n",
      "2019/09/27  下午 01:10    <DIR>          eight\n",
      "2019/09/27  下午 01:11    <DIR>          five\n",
      "2019/09/27  下午 01:12    <DIR>          four\n",
      "2019/09/27  下午 12:00    <DIR>          go\n",
      "2019/09/27  下午 01:12    <DIR>          happy\n",
      "2019/09/27  下午 01:13    <DIR>          house\n",
      "2019/09/27  下午 12:00    <DIR>          left\n",
      "2019/09/27  下午 01:14    <DIR>          marvin\n",
      "2019/09/27  下午 01:15    <DIR>          nine\n",
      "2019/09/27  下午 12:00    <DIR>          no\n",
      "2019/09/27  下午 12:00    <DIR>          off\n",
      "2019/09/27  下午 12:01    <DIR>          on\n",
      "2019/09/27  下午 01:17    <DIR>          one\n",
      "2019/09/27  下午 12:01    <DIR>          right\n",
      "2019/09/27  下午 01:18    <DIR>          seven\n",
      "2019/09/27  下午 01:18    <DIR>          sheila\n",
      "2019/09/27  下午 01:19    <DIR>          six\n",
      "2019/09/27  下午 12:01    <DIR>          stop\n",
      "2019/09/27  下午 01:20    <DIR>          three\n",
      "2019/09/27  下午 01:20    <DIR>          tree\n",
      "2019/09/27  下午 01:21    <DIR>          two\n",
      "2019/09/27  下午 12:02    <DIR>          up\n",
      "2019/09/27  下午 01:07    <DIR>          wow\n",
      "2019/09/27  上午 11:59    <DIR>          yes\n",
      "2019/09/27  下午 01:08    <DIR>          zero\n",
      "               0 個檔案               0 位元組\n",
      "              32 個目錄  27,478,446,080 位元組可用\n"
     ]
    }
   ],
   "source": [
    "ls"
   ]
  },
  {
   "cell_type": "code",
   "execution_count": 16,
   "metadata": {},
   "outputs": [
    {
     "name": "stdout",
     "output_type": "stream",
     "text": [
      "C:\\Users\\calvi\\OneDrive\\桌面\\SR0607080910\\SRCourse6\\input\\tensorflow-speech-recognition-challenge\\train\n"
     ]
    }
   ],
   "source": [
    "cd ..\n"
   ]
  },
  {
   "cell_type": "code",
   "execution_count": 18,
   "metadata": {},
   "outputs": [
    {
     "name": "stdout",
     "output_type": "stream",
     "text": [
      " 磁碟區 C 中的磁碟是 OS\n",
      " 磁碟區序號:  68E3-32FD\n",
      "\n",
      " C:\\Users\\calvi\\OneDrive\\桌面\\SR0607080910\\SRCourse6\\input\\tensorflow-speech-recognition-challenge 的目錄\n",
      "\n",
      "2019/09/27  上午 11:28    <DIR>          .\n",
      "2019/09/27  上午 11:28    <DIR>          ..\n",
      "2019/09/27  上午 11:30    <DIR>          train\n",
      "               0 個檔案               0 位元組\n",
      "               3 個目錄  27,472,424,960 位元組可用\n"
     ]
    }
   ],
   "source": [
    "ls .."
   ]
  },
  {
   "cell_type": "code",
   "execution_count": 19,
   "metadata": {},
   "outputs": [
    {
     "name": "stdout",
     "output_type": "stream",
     "text": [
      "C:\\Users\\calvi\\OneDrive\\桌面\\SR0607080910\\SRCourse6\\input\\tensorflow-speech-recognition-challenge\n"
     ]
    }
   ],
   "source": [
    "cd .."
   ]
  },
  {
   "cell_type": "code",
   "execution_count": 20,
   "metadata": {},
   "outputs": [
    {
     "name": "stdout",
     "output_type": "stream",
     "text": [
      " 磁碟區 C 中的磁碟是 OS\n",
      " 磁碟區序號:  68E3-32FD\n",
      "\n",
      " C:\\Users\\calvi\\OneDrive\\桌面\\SR0607080910\\SRCourse6\\input\\tensorflow-speech-recognition-challenge 的目錄\n",
      "\n",
      "2019/09/27  上午 11:28    <DIR>          .\n",
      "2019/09/27  上午 11:28    <DIR>          ..\n",
      "2019/09/27  上午 11:30    <DIR>          train\n",
      "               0 個檔案               0 位元組\n",
      "               3 個目錄  27,470,163,968 位元組可用\n"
     ]
    }
   ],
   "source": [
    "ls"
   ]
  },
  {
   "cell_type": "code",
   "execution_count": 21,
   "metadata": {},
   "outputs": [
    {
     "name": "stdout",
     "output_type": "stream",
     "text": [
      "C:\\Users\\calvi\\OneDrive\\桌面\\SR0607080910\\SRCourse6\\input\n"
     ]
    }
   ],
   "source": [
    "cd .."
   ]
  },
  {
   "cell_type": "code",
   "execution_count": 22,
   "metadata": {},
   "outputs": [
    {
     "name": "stdout",
     "output_type": "stream",
     "text": [
      " 磁碟區 C 中的磁碟是 OS\n",
      " 磁碟區序號:  68E3-32FD\n",
      "\n",
      " C:\\Users\\calvi\\OneDrive\\桌面\\SR0607080910\\SRCourse6\\input 的目錄\n",
      "\n",
      "2019/10/01  上午 09:17    <DIR>          .\n",
      "2019/10/01  上午 09:17    <DIR>          ..\n",
      "2019/09/27  上午 11:28    <DIR>          tensorflow-speech-recognition-challenge\n",
      "2019/09/27  下午 03:24    <DIR>          voice-commands\n",
      "               0 個檔案               0 位元組\n",
      "               4 個目錄  27,467,083,776 位元組可用\n"
     ]
    }
   ],
   "source": [
    "ls"
   ]
  },
  {
   "cell_type": "code",
   "execution_count": 23,
   "metadata": {},
   "outputs": [
    {
     "name": "stdout",
     "output_type": "stream",
     "text": [
      "C:\\Users\\calvi\\OneDrive\\桌面\\SR0607080910\\SRCourse6\\input\\voice-commands\n"
     ]
    }
   ],
   "source": [
    "cd voice-commands"
   ]
  },
  {
   "cell_type": "code",
   "execution_count": 24,
   "metadata": {},
   "outputs": [
    {
     "name": "stdout",
     "output_type": "stream",
     "text": [
      " 磁碟區 C 中的磁碟是 OS\n",
      " 磁碟區序號:  68E3-32FD\n",
      "\n",
      " C:\\Users\\calvi\\OneDrive\\桌面\\SR0607080910\\SRCourse6\\input\\voice-commands 的目錄\n",
      "\n",
      "2019/09/27  下午 03:24    <DIR>          .\n",
      "2019/09/27  下午 03:24    <DIR>          ..\n",
      "2019/09/27  下午 03:27    <DIR>          prateek_voice_v2\n",
      "               0 個檔案               0 位元組\n",
      "               3 個目錄  27,465,601,024 位元組可用\n"
     ]
    }
   ],
   "source": [
    "ls"
   ]
  },
  {
   "cell_type": "code",
   "execution_count": 25,
   "metadata": {},
   "outputs": [
    {
     "name": "stdout",
     "output_type": "stream",
     "text": [
      "C:\\Users\\calvi\\OneDrive\\桌面\\SR0607080910\\SRCourse6\\input\\voice-commands\\prateek_voice_v2\n"
     ]
    }
   ],
   "source": [
    "cd prateek_voice_v2"
   ]
  },
  {
   "cell_type": "code",
   "execution_count": 26,
   "metadata": {},
   "outputs": [
    {
     "name": "stdout",
     "output_type": "stream",
     "text": [
      " 磁碟區 C 中的磁碟是 OS\n",
      " 磁碟區序號:  68E3-32FD\n",
      "\n",
      " C:\\Users\\calvi\\OneDrive\\桌面\\SR0607080910\\SRCourse6\\input\\voice-commands\\prateek_voice_v2 的目錄\n",
      "\n",
      "2019/09/27  下午 03:27    <DIR>          .\n",
      "2019/09/27  下午 03:27    <DIR>          ..\n",
      "2017/07/28  上午 04:10            32,044 stop.wav\n",
      "               1 個檔案          32,044 位元組\n",
      "               2 個目錄  27,460,784,128 位元組可用\n"
     ]
    }
   ],
   "source": [
    "ls"
   ]
  },
  {
   "cell_type": "code",
   "execution_count": 27,
   "metadata": {},
   "outputs": [
    {
     "name": "stdout",
     "output_type": "stream",
     "text": [
      "C:\\Users\\calvi\\OneDrive\\桌面\\SR0607080910\\SRCourse6\\input\\voice-commands\n"
     ]
    }
   ],
   "source": [
    "cd .."
   ]
  },
  {
   "cell_type": "code",
   "execution_count": 31,
   "metadata": {},
   "outputs": [
    {
     "name": "stdout",
     "output_type": "stream",
     "text": [
      "C:\\Users\\calvi\\OneDrive\\桌面\\SR0607080910\\SRCourse6\n"
     ]
    }
   ],
   "source": [
    "cd .."
   ]
  },
  {
   "cell_type": "code",
   "execution_count": 32,
   "metadata": {},
   "outputs": [
    {
     "name": "stdout",
     "output_type": "stream",
     "text": [
      " 磁碟區 C 中的磁碟是 OS\n",
      " 磁碟區序號:  68E3-32FD\n",
      "\n",
      " C:\\Users\\calvi\\OneDrive\\桌面\\SR0607080910\\SRCourse6 的目錄\n",
      "\n",
      "2019/10/01  上午 10:42    <DIR>          .\n",
      "2019/10/01  上午 10:42    <DIR>          ..\n",
      "2019/10/01  上午 09:57    <DIR>          .ipynb_checkpoints\n",
      "2019/10/01  上午 10:42           275,618 00課程 6 - Speech Recognition -  Voice to text model 語音轉文字 模型.ipynb\n",
      "2019/09/30  上午 11:04            16,886 30902019課程 6-  Speech Recognition - Speech-Emotion-Analyzer  語音識別 - 語音情感識別 分析器.ipynb\n",
      "2019/10/01  上午 09:17    <DIR>          input\n",
      "2019/09/24  下午 03:21           663,580 SR06youtubefrontpage.png\n",
      "2019/09/24  下午 05:51           469,057 SR06youtubefrontpage.pptx\n",
      "2019/09/27  下午 03:19            32,044 yes.wav\n",
      "               5 個檔案       1,457,185 位元組\n",
      "               4 個目錄  27,482,386,432 位元組可用\n"
     ]
    }
   ],
   "source": [
    "ls"
   ]
  },
  {
   "cell_type": "code",
   "execution_count": null,
   "metadata": {},
   "outputs": [],
   "source": []
  },
  {
   "cell_type": "code",
   "execution_count": null,
   "metadata": {},
   "outputs": [],
   "source": []
  },
  {
   "cell_type": "markdown",
   "metadata": {},
   "source": [
    "# 程式範例"
   ]
  },
  {
   "cell_type": "code",
   "execution_count": 7,
   "metadata": {},
   "outputs": [
    {
     "name": "stdout",
     "output_type": "stream",
     "text": [
      "0.6.0\n"
     ]
    }
   ],
   "source": [
    "import librosa\n",
    "print(librosa.__version__)"
   ]
  },
  {
   "cell_type": "code",
   "execution_count": 8,
   "metadata": {},
   "outputs": [
    {
     "name": "stdout",
     "output_type": "stream",
     "text": [
      "1.0.0\n"
     ]
    }
   ],
   "source": [
    "import scipy\n",
    "print(scipy.__version__)"
   ]
  },
  {
   "cell_type": "code",
   "execution_count": null,
   "metadata": {},
   "outputs": [],
   "source": []
  },
  {
   "cell_type": "code",
   "execution_count": 9,
   "metadata": {},
   "outputs": [],
   "source": [
    "import os\n",
    "import librosa\n",
    "import IPython.display as ipd\n",
    "import matplotlib.pyplot as plt\n",
    "import numpy as np\n",
    "from scipy.io import wavfile\n",
    "import warnings\n",
    "\n",
    "warnings.filterwarnings(\"ignore\")"
   ]
  },
  {
   "cell_type": "code",
   "execution_count": 10,
   "metadata": {},
   "outputs": [
    {
     "data": {
      "text/plain": [
       "['.ipynb_checkpoints',\n",
       " '30902019課程 6-  Speech Recognition - Speech-Emotion-Analyzer  語音識別 - 語音情感識別 分析器.ipynb',\n",
       " 'best_model.hdf5',\n",
       " 'input',\n",
       " 'SR06youtubefrontpage.png',\n",
       " 'SR06youtubefrontpage.pptx',\n",
       " 'yes.wav',\n",
       " '~$SR06youtubefrontpage.pptx',\n",
       " '課程 6 - Speech Recognition -  Voice to text model 語音轉文字 模型.ipynb']"
      ]
     },
     "execution_count": 10,
     "metadata": {},
     "output_type": "execute_result"
    }
   ],
   "source": [
    "os.listdir()"
   ]
  },
  {
   "cell_type": "code",
   "execution_count": 11,
   "metadata": {},
   "outputs": [
    {
     "data": {
      "text/plain": [
       "['tensorflow-speech-recognition-challenge', 'voice-commands']"
      ]
     },
     "execution_count": 11,
     "metadata": {},
     "output_type": "execute_result"
    }
   ],
   "source": [
    "os.listdir('input/')"
   ]
  },
  {
   "cell_type": "code",
   "execution_count": null,
   "metadata": {},
   "outputs": [],
   "source": []
  },
  {
   "cell_type": "raw",
   "metadata": {},
   "source": [
    "'''\n",
    "\n",
    ">> 數據- 預處理步驟 Data pre-processing\n",
    "    >> 數據探勘 和 可視化\n",
    "    >> Data Exploration and Visualization\n",
    "\n",
    "    >> 時間序列域中 - time series domain\n",
    "        >> 音頻信號可視化\n",
    "    \n",
    "    >> 音頻信號 - 採樣率 **\n",
    "        >> Audio Signals - Sampling rate\n",
    "        \n",
    "        >> input/train/audio/yes/0a7c2a8d_nohash_0.wav        \n",
    "\n",
    "        \n",
    "'''"
   ]
  },
  {
   "cell_type": "code",
   "execution_count": null,
   "metadata": {},
   "outputs": [],
   "source": []
  },
  {
   "cell_type": "code",
   "execution_count": 12,
   "metadata": {},
   "outputs": [
    {
     "data": {
      "text/plain": [
       "[<matplotlib.lines.Line2D at 0x2b074f59278>]"
      ]
     },
     "execution_count": 12,
     "metadata": {},
     "output_type": "execute_result"
    },
    {
     "data": {
      "image/png": "[encoded data removed]",
      "text/plain": [
       "<matplotlib.figure.Figure at 0x2b06d710eb8>"
      ]
     },
     "metadata": {},
     "output_type": "display_data"
    }
   ],
   "source": [
    "train_audio_path = 'input/tensorflow-speech-recognition-challenge/train/audio/'\n",
    "samples, sample_rate = librosa.load(train_audio_path+'yes/0a7c2a8d_nohash_0.wav', sr = 16000)\n",
    "fig = plt.figure(figsize=(14, 8))\n",
    "ax1 = fig.add_subplot(211)\n",
    "ax1.set_title('Raw wave of ' + 'input/train/audio/yes/0a7c2a8d_nohash_0.wav')\n",
    "ax1.set_xlabel('time')\n",
    "ax1.set_ylabel('Amplitude')\n",
    "ax1.plot(np.linspace(0, sample_rate/len(samples), sample_rate), samples)"
   ]
  },
  {
   "cell_type": "code",
   "execution_count": null,
   "metadata": {},
   "outputs": [],
   "source": []
  },
  {
   "cell_type": "code",
   "execution_count": 13,
   "metadata": {},
   "outputs": [
    {
     "data": {
      "text/html": [
       "\n",
       "                <audio controls=\"controls\" >\n",
       "                    <source src=\"data:audio/wav;base64,UklGRiR9AABXQVZFZm10IBAAAAABAAEAgD4AAAB9AAACABAAZGF0YQB9AAAwAOj/0P8DACkAAADQ/+X/KQBMAC0AAAD2/wYAKQA0AAMA3v/9/zcAMADs/7T/zP8GAAMArf9y/5z/6P/6/7D/g//J/yIAGAC+/4f/vv87AFAA+v/J/+X/SQB2AB8A1//o/zAAUAAYANP/0/8GAB8A6P+0/77/1//s/97/zP/o//3/9v/9/+//0P/J/9r/3v/J/9D/6P/a/9f/6P/v/97/zP/X/+//EQAUAPr/7P8UAFMAXgA+ACkARQBrAHYAVwA0AB8AGwAwADcAGAD9/wMALQA+ADsAKQAiAEUAUwBQACYAFAA7AEUAJgD9/9P/1//2/w0ADQADAAAA4f/e/+z/1//l//3//f/6//3/AAD6//P/7//9/xEACgDz/+X/8/8GAAMA0/+t/8z/+v/v/9f/xf/a/w0ACgDJ/5H/t/8UADAAAAC3/7f/DQApANP/a/91/+X/IgD6/7D/u/8KAEIALQDv/+//NACAAG8ADQDv/zAAeQByADAABgAKACYAGwDa/63/0/8YABsA8//l/97/9v8RAP3/xf+p/9f/CgDs/8z/1//o//r/+v/a/8n/4f8AAAYAAAD9//P/8/8DACIAGwAAAAMAHwBJAFMAPgAtAEUAbwBrAEkAGAAiAEUAPgAYAAAA/f8GABsAHwAYABsAGwAmACkADQAAAPr/CgAmABgA8//h/+X/9v/9//P/2v/e/wMADQADAPr/7//9/xEADQD6//b/CgANAP3/5f/a/+//DQANAP3/3v/e/+j/0//C/63/nP+p/9f/+v/s/9D/0P/X/9D/yf/F/9f/+v/6/9P/0//2/wMA/f/l/+z/CgARAAoAAwD6/wMAFAAbACIAGwAUABEAGAAYAAMA9v/l/wYAUAA3AOj/4f8fAFAANADs/97/PgCOAFMAxf+i/xgAlQBvAMX/df/a/5UAuAAKAIf/yf+LAMYASQDQ//3/kgC1AEIAtP/M/1MAdgAbAMn/4f8NAA0A/f/z/woAJgAAAL7/vv/z//r/yf+Y/6L/9v8mAOj/h/+f/w0AQgAAAJX/mP/z/xgA3v+D/3L/u//9/+H/kf+A/7D/0//h/8z/t//h/wYA/f/a/7f/2v8AAAAA+v/s//3/DQANAA0AHwA0ADcAJgAYADQAWgBFAA0ABgAwADsAGADs//P/OwBeAAMApv/Q/2gApwAtAKb/xf9vALgALQB8/4D/PgCuACkAdf98/2gA8ABXAHn/Z/87AMYAUwCD/3z/SQDCADcAWf9W/xsAjgAtAG7/YP8bAJkAGwBI/0//HwC4AFAAg/9r/wMAkgBXAKn/h/8pALwAbwDe/8L/LQCnAIcA8//C/x8AcgA+AMn/pv/s/zQADQCw/7T/CgBJABsAvv+7/wMALQARAL7/ov/e/xsAIgD2/9D/0P/a//b/GAD9/9r/7P8DAAoAAADv/9f/2v/e/97/3v/e/8X/kf+H/9r/MAAYAK3/g//v/3IAcgDz/4f/wv95AJwAEQCt/8L/OwBTAPP/wv/6/0UANwDQ/6b/7P8pAOj/df+V/x8AWgDl/3n/sP9FAJkAPgC+/97/hwDNAGEAvv+0/0IAjgBTAOj/0P9CAH0AGwDT/xQAhwBhAML/iv/v/2QAQgCi/4r/NAC1AFoArf+Y/zQArgAwAFn/Wf8mAI4ACgBL/4P/QgBTALT/SP/Q/2sASQCV/0v/AACcAGEAsP+O/xEAZAAfAJ//ov8+AJwASQDF/8X/LQBkAC0A8/8NADsANADX/4f/pv/s/wYA4f+V/4P/t//9/+//rf+3/xEAaABoABgA5f8NAHIAcgDz/5X/yf9MAHkADQCY/7v/UACnAEwA0P/J/zAAfQBMAPb/0P8bAG8ATAAAAN7/+v8pAB8AAAADABEAGAD6/8z/2v8RAA0A2v+t/7v/AwAfAOj/xf/6/z4ALQDJ/5//yf/6//P/tP+m/97/9v/M/6L/sP/s/wAAAwADAPP/8//9/wMA/f/X/7T/zP8UACkA9v/T/+z/EQAAAOX/1//h/w0A/f/a//3/SQBFAO//0/8GAC0AKQAGAAYANwBQADsA6P/C/wMANwA7AAMA7P8KABgAJgAbAAMAFAAiABgACgANABgAHwAUABQAFAAbABQA8//h/wAAGAD6/+j/AwAbABsACgD9/x8AawBeAOX/u/8RAFAAHwDo//P/7/8DADsAKQDv/9P/1/83AH0AHwCY/4f/DQB9AC0Akf+D/w0AbwAiAKn/u/8YADcA8/+3//3/VwAtALv/fP/F/zsARQDh/4r/vv8NABEAt/9g/6L/QgBJAK3/T/+H/xsAdgANAHL/bv/6/0wAKQDl/77/6P83AF4AHwDT/77/1//2/wYAGAD6/+j/DQBFADsA8//F/7v/0P/2/+j/xf/h/wAA7P/v/zAARQBCAFAAeQC/AL8AbwAwAGEAtQCEAOH/nP/h/0kARQDv/9f/AwAfAPb/t//e/2EAiwDl/0j/tP+VALUA4f9B/5//kgDiABQAUv+3/64A5QAKAEj/iv8iAFAA1/9k/6n/NAAYAHn/Uv/e/1MAJgCR/13/5f9TAAMAZ/9y/x8AUwDe/3n/sP9JAGEAAADl/xsAawBeAAYA+v9MAIQAOwDF/9P/MAAwAOH/nP/T/zQAPgDz/5z/0P87ADcA8//Q/+z/IgAwAOX/kf+w/wYAGwDl/5X/mP/o/woA2v+f/6L/xf8DABgA3v+0/9f/GAA0AA0A7P/l/xgAZABvACYA7//9/ykASQAiAPb/+v83AEUA7//M//r/NwBFABQA+v8NAEkAZAAbANP/3v9FAIsAPgDX/9r/JgBCAB8AtP+c/xgAhAA+AHX/M/+3/14ARQCH/2T/BgB5ADcAov+Y/x8AUAARAMX/wv8UADcAAADX//r/HwAKAND/3v8YABgAGwAtAA0A1//T/zcAhABMAML/df/6/4cATACw/6L/NwCSAEUArf+H/wMAZABCAAAA/f8iAB8A9v/6/x8APgAwAOz/wv/o/wMAAAD9/wMAAwDQ/63/1/8AAOH/ov+m/+j/DQAGAOz/5f8GABsABgDe/+X/AADs/9f/7/8GAO//vv+7//b/NwAGAMX/8/8fACYAAwDe/+j/DQAKAPr/6P/v/ykAOwAmAC0APgAUAMX/u//2/xsA+v+3/7T/BgA7AAYAn/+H/wYAhwBQALD/ef/v/5IAgADa/3L/0P9aAFcA6P+i/woAnACuABsAg/+Y/0kArgAwAJH/lf83AKMAPgB8/1b/CgCnAHkA0/9r/8z/iwCHAL7/G/+V/6cA4gAUAEH/df92APAALQA6/27/kgAyAWQAKf8s/14ANQGuAHn/Bv/s//cAzQDe/0H/pv+HANAAOwBy/2v/AABoADAAsP+A/8z/MAAwAOz/qf+K/9f/KQAYAMz/mP/C/ykAWgARALT/yf8GACIAGADX/7v/4f8KAAoA2v/Q/+X/DQAYANr/vv/h/yIAKQD9/9P/5f8UAC0AFADM/9f/JgBCAAAA1//v/yYAQgA0ABEA8/8fAGEAcgBQABgAGwBMAGQATAARAOz/8/8DABsACgD2/+z/0P/e/x8AYQA3AND/rf/s/0wANADC/5X/1/8mABgAzP+H/6L/8/8fABgAAADo/8z/5f8mAFoANADz/+//KQBhAEkA7/+f/9f/TABTAP3/sP/J/xsAGAC0/5j/4f8pACYA0P+w//3/QgARAK3/ov/v/xgA7P9r/zP/tP8mAO//a/9W/8X/NAAmAJ//T/+p/0wAYQDv/3X/mP83AHIALQCi/4P/FACjAIcAAACt/+//hACxAEwA0P++/x8AgAB9AC0A5f/o/0kAhwBeAAoA7P8tAIsAhAANAJX/rf9JAKcANwCD/3X/GwC1AFAAa/9E/woA4gCOAHX/EP/M/8IArgB8/73+h//sAC4BAwAC/2v/tQBAAWEAJf8X/zcAFgGVAEj/7f7C/8YA3gD6/1b/pv9yAL8AGABr/4f/GAByABgAiv+K//b/SQAUAJj/iv/v/zsAOwD2/8z//f9QAEwA1/+R/77/GABJACIAzP+0//3/LQD2/6L/t//z/wYA6P+m/7D/9v8RAPb/0/+w/8L//f8pACkA9v/J/9D/HwBeACkA1/+w//b/bwBhAMz/Z//M/2EAVwC3/0v/u/9vAIcA7P9Z/5//XgCgADsAqf+p/2EA9wCZAMn/sP9vAP4AhADC/63/HwCSAFoAsP+A//3/cgAtAIr/a/8DAH0ASQCw/3z/5f9oAF4AtP9S/7v/TABXAOX/mP/M/yIAKQDo/+X/MABeABQAqf/a/2QAlQD2/zr/n//JAEMBYQBP/3X/vwBqAWQAFP8i/2gAJwF9AFn/M/80AN4AYQCH/1L/7/92AFMAzP+i//P/HwDs/7D/xf/2//3/7P/e/9f/zP/T/+//7P/o/+H/1//9/xQA+v/J/9f/EQAYANf/kf+t/ykAawAKAIr/tP9MAIAAGAB5/3L/AwBTAPP/fP+f/yIARQDo/7D/7P9TAEkA1/+3/x8AdgBCALv/kf8DAGQAGwCO/3n/0/87ADcA0P+Y/9D/PgBMAOj/iv+p/yYAaAAwAK3/t/80AGEA/f+D/6n/VwDQAGEAgP9P/z4ADAFkAEH/Pv+AAHQBuABL/yz/eQBKAacAjv91/3YADwF2AJH/kf9JAKAAKQCY/7f/PgBhAPb/n//e/1MAPgDC/4D/yf8tADsAAwDM/8z//f8NAPP/6P8fAEUAJgAGAP3/AwADANf/0P8DADcAFAC3/6b/AABFAB8A0P+7/wMATAAiALT/Z/+K/+//BgDF/63/wv/C/7D/wv/s/97/pv+V//b/aABQALf/Vv+f/ykAUwDs/3n/rf8+AG8ACgCV/4r/xf/6/+//5f/2/+//4f/2/0kAaAAUAMz/9v+cAAgBvAAbAN7/PgCxALUAVwANAP3/HwBXAGEAHwCt/5X/CgBvAFcA7/+m/9P/bwDlAI4A4f+7/zAAwgC1ABQAov/a/3YAkgANAI7/h//l/yIA/f+p/47/zP/6/+X/sP+Y/7D/0P/T/9P/9v8NAA0A+v8DADAASQAbANP/0P8RADAAGADs/8z/yf/e/9r/zP/X/+H//f8UABEA5f/a/w0AKQAAANP/3v/6/woA+v/M/8z//f8DANf/yf/v/x8AHwDv/9P/8/8pABsA0P+c/9f/QgBTAP3/ov+7/yYAXgApANf/zP8mAHYARQDv/8X/8/8+ADAA8//o/wYAMAAtABgAFAA7AFAAJgAKAAYAGwApAAYA9v8KACkALQAiAAAA3v/o/wMAAwDl/8n/zP/T/9D/0//M/77/5f8DAAAA+v8GAPr/4f/s//r/9v/s//P/7//l/+j/+v8AAP3/AAD9/wYAHwAiAAMA3v/o/x8AOwARAOz/9v8AABQAGwAKAPr/AAAwAEIALQAUAPr/AAAmAEkAPgARAP3/CgAwADcA+v+w/7T/7/8NAOz/wv+w/8z/AwD9/9D/xf/v/xgAEQAUAAAA6P/v/wYAGAAKAA0ABgD2/woAGwD6/63/n//h/wAA1/+0/9D/CgAwABQA1//C/wYAVwA+AP3/AAA+AFoAMADz/+H/BgAtADAAAADo/woANwA0AAYAGwBeAHIAQgAfAEkAfQBrABQA+v8AABsANwANAOz//f8UAAMAzP/C//b/JgAAAK3/n//F/+z/5f/F/6n/tP/X/97/xf/J//b/DQAUACYAHwAUAAYA8//e/9f/4f/6//P/xf+0/7f/4f8DAPP/yf/F/xEANAAYAPb/8//9/wAA7/+7/8X/+v8UAAYA5f/h//P/AwAGAP3/AAADAA0AGwAGAOj/0//X//P//f/v/+//AAAbACIACgAAAAAABgAYAB8ACgAGABsAEQDo/+j/AAAKABsAHwAGAAAAEQAKAO//5f8RAD4APgApAB8AQgBkAEwAHwADAA0ARQBaAC0A/f8AACkAMAAUAA0AFAAbADcASQAwACYALQA0AD4ANAAmABgAIgA0ADAAGADz/97/1//e/97/yf+t/5j/n/+7/8L/t/+p/5H/qf/e/9r/zP/X//3/HwARAPP/0P/C/8X/0//a/8X/t//T/+//8//l/+X//f8bACIACgD9/wAAFAAiAAoAEQAmABgABgAAAAAADQANAAMAAwANACYAGwAAAO//6P/6/+//4f/l/+j/7P/2//r/6P/o/wYACgD2/9r/1//X/8L/wv+0/63/0//o/+//AAAKACYAIgADABQANABCAEkAWgBMAC0AMAA3AD4AWgBkAFAATABMAD4AMAApADQAPgBJACkACgAKAAMAAAADAAAAFAA0ADsALQAUAPP/7P/6//r/AAD9//P/6P/J/7v/zP/e/+z/7P/l/+//8//e/9P/1//M/9D/3v/M/8L/0P/s/+//8/8DABgAGwAGAAAAAwARACIADQDs/97/2v/T/8X/1//2/wAAAwD2/9r/wv++/8z/3v/e/9P/5f/6//r/7//h/+z//f8GAA0ABgAAAAYAFAANAAMAAAD9/wAAAAD6//b/9v8AAAMAAwAiADQAOwA0ACkAHwAUABEAEQAiAB8AGwAbAAYA8//v//r/CgAYAAYABgAUACYAFAD9//b/8/8DAAYAAAAGABQAGAAKAA0AGwA0AD4AMAAfACYAOwApABgAGwA7AFAARQBFAEkAQgAwADAATABMAC0AJgAiABEACgAKAPr/8//z/+z/8//9//3/9v/2/+//5f/Q/7T/rf+0/8L/xf+3/6b/nP+m/7T/rf+i/7D/yf/F/8L/u/+3/8z/1//M/9r/6P/o/+//6P/l/+j/8/8GAAYAAAAAAAYA/f/h/9f/0//a/97/1//F/7f/vv/J/+H//f8AAAMADQAUABsAIgA7ADQAFAAbACkAKQAiACYAHwARAB8AKQAwACYAKQBFAFMAUwBCAEUAUwBaAF4ASQAwADQARQBXAFMAOwApACkAKQAwAB8ADQAiAB8AGAAbAAMAAAAbADcARQA7AB8AEQARAB8ALQAmAAoA6P/X/+H/9v/9/+j/4f/o//b/BgDz/9f/zP/T/+X/7//2//b/2v/T/9r/1//Q/8X/u/+3/77/yf/F/8z/yf/M/+H/7P/v/+j/7P/v//r/AAD9/wMA/f8AAAAA4f/Q/9f/0P/T/97/7P/6//b//f8DABQAGAARAB8AJgAfABsAGwAYABgAGwAUAA0AAwD6//r/DQAiACYAFAARABEABgAGAA0AIgAmACYALQA3ADQAIgAYABEAGAAbABgAGAAGAAAADQAYACkANAAtAB8AGAARAAYAAAADAAoABgAAAAMA/f/o/+H/2v/M/8X/xf/J/8X/u//C/8n/xf/C/7v/xf/X/+j/7P/l/+H/1//T/+z/AAADAAYAAAD6//r/9v8AAAoADQAYABsADQAAAOj/6P8AAAAACgAmADsAHwAKAAMA7//h/+z/DQAUABEAAwD6/+z/5f/s/+z/AAADAAYAEQAAAAAABgAfABQACgARAAMAAAAAAAAA8//2//3/AAAGAAAA+v8AAP3/AAAKAAMAAAD9/wAAAAAUADcAQgBFAD4ALQAUACYARQBJAFcAYQA+AB8AFAAGAP3/9v8AAP3//f8GAAAACgAAAPr/9v/6//3/4f/e/+H/xf+0/63/ov+f/6n/t//C/97/7//h/+X/9v/9/wMABgD6/+j/6P/2//3/AAAAAAAAAwAGAAAADQAfABQAEQANAAoAIgAtADQAPgApABQABgAAAAYADQAbAC0AKQAbAAYA9v/6//b/+v/6/wAA9v/Q/8L/u//J/9D/3v/9//3/7P/Q/8X/0P/o/wAAAwAYABQA/f/z//b/9v/z//3//f8AAPP/1//o/+//8//9/wMACgAGAAAABgADAAAAAwAGABEALQBCADcANAA+AEIAUABXAFMAVwBQAEwARQA7ADAANwA0ACIACgD9/woACgAAAAoAGAAKAAAACgAGAAoAEQAKAPP/0//J/77/vv/J/9P/2v/M/7v/wv++/8L/zP/C/77/zP/X/9D/yf+7/8L/vv+3/8X/0P/h/+X/8/8GAP3/7//6/wMACgARACYAKQAmADQAKQAYABgADQAYACIAGwADAPb/AwAGAAAAAwADAAAAAAANACIAFAANAAoACgAbABQAJgA3AEIAPgAmACkADQD9/w0AGwApACkAJgARAO//5f/2/wAACgAiADcAMAAfABQAEQARAA0ADQARABgAGwAmAB8AFAAbABEACgD9/+//7P/l/97/3v/v/wMAAADz/+//7//z/+//7//9/+//3v/h/97/0P/T/9P/zP/M/8L/t//J/9P/xf+7/6n/nP+f/6n/wv/T/+H/4f/a/9P/yf/a/+j/8//2//b/7//e/+H/8/8AABEAJgA3ADcAJgAiAC0AMAA3ADQANwA7ADsALQARAA0ACgAAAP3/AwAGAAYAFAARAAMACgAYAC0AMAAtADAAJgAfABsAIgAwAC0AGwAUAAMA7//h/+H/+v8AAAAAAAAAAO//4f/o/+X/7P/9/woAEQAUABgAIgAtADAAPgA+ADsANAA0AD4ANAAUAAMAAAD6//3/CgAGAAAAAAAAAAYAAwAGAAMAAAADAAAAAAD9/+//3v/X/97/6P/2//3/+v8DAPP/2v/X/97/7//v//P/5f/X/9D/0//X/+H//f/s/+//AAAAAAoADQANAA0ACgANAB8AJgARABgAHwAfAC0AMAAtABQAAwAAAPr/8//o/+j/1/+7/77/tP+7/9P/0P/Q/+H/+v8DABgAKQAtAC0ALQApAB8AIgANAAMABgAAAAAAAAAGAAMA9v/v//P/+v/z//P/7P/l/+H/4f/z/wAAAAAAAAAAAAAAAAMACgARACYAHwANABEACgAKAAAABgAiAB8ABgDv/9r/2v/o//b/BgAAAPr//f/6//r/+v8KABQADQAAAO//7P/o/+z/8//z//P/9v/9//3/AwARAA0ABgD9//P/5f/T/97/+v/9/wMADQADAP3/7//l/+///f8NABsAGAAUABQAEQAKAAYABgAAAAoAGAANAP3/8//o/+H/zP/J/9P/0//o//P//f8GAA0AFAApADcAIgANAAAAAwADAAoAGAAUAAoAAwD6/+z/3v/Q/9f/9v/9//3/AAD6//3/7P/z/wAAAwAKAA0AHwAfACYAGwAYAC0ANAAtABQAAAAAAAMACgAUACIAOwBFADQAMAAtAC0AKQAmACIADQAKABQADQAKAAoAEQARAAYABgADABgAFAD2//P/5f/e/9r/3v/l/9f/3v/a/+H/6P/l/+z/5f/l/+//3v/Q/8z/tP+p/8L/0P/T/97/7P/o/+H/6P/v//3/9v/9/woAFAAmAC0AIgAKAAYAGwAUABQAHwAUAAoA/f8AAAYA+v/6/wAA9v/2//r/AAAAAAYACgAAAAAAAAAAAPr/7//2//r/7P/e/97/6P/v/wAABgANAA0ACgAKAA0AGwAYABQAFAANAAoAAAAAAO//4f/a/8z/6P/6//b//f8AAP3//f8AAPr/BgARABQACgAGAA0A9v/v//3/CgAKAAMACgAYABsAGAAfACIAEQAUABgAFAAfAA0ADQAYABgAGAAUABEABgANAAYA7//o//r/CgAKAAYACgD6/+//9v8DABEAJgBFADQAFAAGAP3/AwD9/wAABgAKABgAEQAGAAAA/f/9/+//7P/s/+H/3v/h/+j/4f/C/9D/3v/a/97/1//z/wAA+v8KABEA/f/T/7f/sP+m/63/tP+w/77/0//Q/+H/6P/X/9r/6P8DAAAA/f8AAAoAJgAfACYAIgANAAoACgANABgAJgA+AEkAUwBTAEUAPgA7ADQAPgA+ADQAMAA0AC0AJgAtACkAHwAGAP3/AwAKABQAGAApAB8ABgAAAP3//f8AABQAHwAiABsABgD6//r/+v/2/9r/0//M/77/vv++/9D/1//a/+z/+v/9/w0ADQAAAPP/3v/h/+X/4f/M/9D/5f/h/+H/5f/l/+z/8//9/wAA/f8AAAAAAAD9//r/+v/z//P//f/9//b//f/9/wMABgAAAAAA8//s/+z/+v/6/+z/6P/o/+z/8/8AABEAFAAUAB8AHwAbABQAEQANAA0AFAAGAPb/7P/v//b/AAAGAA0AEQAKAAoADQARAAYAAwAKABsANAA+AEIAPgAmAAYAAAADAAMAAAAKAAAA8//9//P/7//s/+j/7//o/+//BgAbAB8AGAARABEA+v/s//r//f8NAB8AGwADAPr/AwADAAYA/f/2//b/7P/e/+H/7P/s//r/AAD9/+//1//e//3/EQARAAYAAAD9/wYAEQAKAA0AKQAtABsAHwAtACYABgD9/wYA+v/s/97/1//J/8X/xf/C/97/5f/h/+//9v8DAAYAFAAwADQALQA7AD4ANAAmABEAAwAGAPb/7P/l/+j/5f/e/+j/7P/9/wYADQAGAPb/7P/s/+z/8//9//b/8/8AACIAGwANAA0ABgANAAoAAAAAAP3/9v/6//P/3v/l//r/AwAKAAMABgADAAMACgARAAoA8//h/97/7/8AAAAAAwAAAAYADQAAAAoAHwAUABQABgADAAAA7P/s//P/9v/2//P/6P/v/+X/0//v/wYAGwAbABQADQADAAMAAwADAAYAAwDv/+z/8//6//b/9v8DAAAAAAAGAAoAIgApAA0ADQAfACkAHwAmADAAMAAiAAMAAwADAP3/7//h/+//+v/9//r/9v/6/+H/1//X/+H/5f/Q/9f/7//l/+X/+v/6/wYADQDz/+z/7P/s/9r/0P/o/+H/0P/J/8z/3v/T/9r//f8AAPP/+v8NAA0AEQAUABQAFAAKAAMABgAKAAMAEQARABsAMAAtADsAUABJADcANABFADQAJgApACkAJgAmACIAIgAYAB8AFAADABEADQD9/+//+v8AAPP/6P/e/+//8/8DAA0AAwARAA0ACgADAPr/6P/l/+H/2v/Q/7v/vv+w/5X/qf+7/8n/1//Q/+X//f8AAAYAAwAGAAoAAAAGACkAOwAtAB8AGwAUAAoAEQAbADAALQAwADsAJgAKAPb/8//6/w0AGwAfABQACgANAA0ADQAYAC0AKQAiADAANAAiAAAA8//a/97/6P/s//r/8//s/+//BgAUABQAEQANAPr/3v/X/97/5f/l/97/0//T/9r/2v/o/+z/7//2//P/+v8AAPb/9v/z/+z/4f/l//P/6P/z//P/5f/X/9D/yf/C/77/xf/J/8n/0P/X/9f/2v/s/+//8//l/+X/AAAYAEIANAAtADAAMAA3ACkAMAApACIARQBJAEkASQBJAF4AVwBQAEwANAAmAC0AKQAiACIAKQA0ADcANAA0ADAAHwANAP3//f/2/+H/2v/a/9r/4f/e/9D/0//z//b//f8DAAYAAwD9/wAAAAAAAAoAAwAGABQAFAAGAAAACgADAO//6P/Q/8L/vv/C/9f/4f/T/8z/1//Q/9f/4f/e/+H/5f/o/9r/6P/v/+z/8//o/+//AwAGAA0AGAAiACkAIgA0ACIAFAARABEAGAADABQAIgADAA0AGAANAAAAEQAwACYAGwAUABgAEQAAAPb/6P/9//3/5f/o/8X/rf+p/6n/vv+w/5j/fP9d/zD/EP8N/wb/9P7t/ub+//4X/xf/Df8p/0H/Vv9d/3L/kf+i/9f/7/8bAEIAgACxAOIARwF0AcgBGwJoAtQCFgOFA84DBgRWBIME0AQBBRkFPAU/BVgFPwUPBc0EfAQpBJMDJAN9ArMB8wARADP/Mf5I/Ub8Rftt+oT5mvix9/z2ZvbR9Uz1uvRu9Ef0E/Qh9ED0hvTZ9Dv10fVx9j73FvgN+UD6gPvH/B3+n/9VARYDtAR5BpEIeAolDAIOKBAyEsMT/xRcFqMXexjuGAIZBhl0GFMXMhbkFPkSMhBiDbQKxwdMBIsAIv2L+dT1R/Lv7s7rh+hj5f7iMuFx37PdYtz528nb09ti3GPdoN7B36nh9ePb5oXpOux37/Xy7vZK+r3+KwNGBwALMQ9/FIkY1RwfILojKCfxKb8sZC4XMEEw4y+dLzUviC1rKiEn3SMfINobaxfzEbAM3gZmAVj8Jvc28sfrC+cF407f/duF2JrWEtTW0svSvdLw06XU/dXv1wbbYN/84Vjlyei+7OjwzPRr+W38lf+cAsAFiAkeDBoOEQ+sEOQSBRQDFYcVrRWAFXYVMhYgFnIVcRSZE4QTAxONEhgR7Q8mD84NBw2uC2QKLAgNBuwEdwMKAuH/+v1p/Df7X/oN+fP3FPcd9qD1qvXf9ZX13fQH9cb1ifbL9qX2Jven90D4yPgw+aD5MPkf+Zn5GfoB+tL4bfgk+Pf3h/df9u31EfVE9O3zw/Pi81DzQvNF9br2mvi4+cf8eQBFBOgImQvBEL8TexjHHHMgMSQWJU4nKymKKrsqLilKJx0lYSJQID8cJBjkEsMN7QlGBfAA4/po9Yjxtu0X6mHmeuKU36fc5NvP2zjat9nt2P/aq9w/3uTfyuDu40zmmumW60PtUO+w8L/z2PXE9hj3APcp+UP6TPsp+zX6PvsW/Kb/kwFaAlEDgAa1C4YQnhQbF5oaLh6QI1ooFiu0LNwr5ytULT4uiixfJyQjah8cHA0Z6RNgDhwH3QGI/rP6uPco8snsGekw6F/nGuVO40fh++Bt4Vrk4OVD5eLm/ehI7FTv2/Fe89vz4PY7+bH5Fvr1+sv64PjB+Iz4avYm9cbzRPLk8Lfwzu8n7RXx9fTW9ADzoPc6/7gCxQhnDNYQERUuHKIjxiYlLJwslSxSMDQ1HTavL2YtqiqqJvAk8CCDGw8Skgs1B4kDwQHi+Tbwd+tP7GvquuWg4s3gAN543V7grN+84BjgDN+z4b/kxOlc507nOOsQ6hTsde5q8AbuF+q+7DHtM+5b7SXqC+vc677s1euu8Uz5ava39CP+/wlaD+cQ0hYXHSQjwipZME01FTeBN3g26TnjPhg7uTMcL9AsxiiJI/serBbhDDkFLQJW//r39O8n6RTm8OSE4vLdhdwo29Xat9sL3FfgCuAQ3yHjU+Yw6kzqW+sl7gDtUO8C8oTxMe9U7cXuHu6K7sftQeq46vHr8+x668Hy8/n39YT1yQAVDeAQeBT0GhggGiddMI02Rzg8Ovg6SzjjPPRAWDp8MOcrminSI8oeLBlHDk4DP/7l+0L3NPHA59TgFeAD4tTeWdke2RvZddmp233eCuD83ybi6eZ06SftiO+p7gXw2PH89Iv1DvNQ8crvpvAE8ZPtueuO6rLpuOpU63DrgOrb8YL4JPZ0+NcE6A4NE0AWzh5yJjMqqzNHOP47rT0iO8E8Tz8bQW852C8lLmgo5iJZHcYVSAyqADr7o/ko9KvrR+Pk37rfXt6G2/3Zz9sb2avapN4m4nvlieOt5pbr/+1i8Qny9/Es8l7zJPYv9Kbw+e7k7rvu1+o66vroMuXd5T7mk+cb5qznsfMV9RDw1/kHCaMRTBViGJ4jvyxUM1M9tj7lQ8VF2UBbRKVHUkfWOrcw+i4TJ80iXRlGDcYEU/ng9Lvs1Oby4zXYgNN5047TvdLN0VjSDNJy1Vvaid944YTkgOiJ6bnvl/Tr9BryGvRY+qf3JvMl8mryRPLC7qHrKepI6HfpVuqH6PXp3OdX7+j7+Pog+hQGoxNpHDEk/igXMok4SkJ7S75JmU42Te9Fvkc/SPhCUjR0K0UkLBnsE/QJgP398E/o3eNb2k3WydNXyc7F3MdzydbK4suSz3jSy9jd4XLmoeub8rH3k/paAMUGtgX6AHsBhwasA8b7Vfiq9cz0LPL769nn/OXx5cjlseRH59fk1ODm8Ur+kPY8+BoKJxamHXImJS6ENVE6W0aeS49K1VEaS7RBcEQtRro6yyt6JFEY4g96B2H9l/TP5UbcINR90/rVncsbxEbFvMtfziLTItln2dbfFudx8BT5h/uA/+P+vQPACfoGpQPv/6MAMvyn81vvVuw/62PlVd8s26LZf9vy2Vvcht1c3WTbNOTa/1YEE/jzAqMZpygcN109dEBpRIJNY142XFNdolysSaBGdkg2R6c1siJ9FzwDYwHQ+5Xs9N5Y0EfMLMSbxhDMvcFCvhTA08h90SfaH+Id4UPpZfND/D4GtArvDBUJ1QkYD0YLDwUKAmH92/Oo6RHmK+cA5KfcxNTk0LvT/ddi2LbWKtoX3Z3eHt998e4OzAjs/agSSC5DQrJIMUrwULVXh2Vna4Vmo2dxXLxKI0TVQpo6+SGxDzr/LPDo6gXfi9N4yOS7hrfTtxO9gsO/vqHBJs1v0/7gBO9H+Hn9vv8CCrYWrRtlHH4WmRGNEvYMTQUm+yH0j++N37PUHdSz1K/QiMUUxPLI5suX0A3Tmtak3kzizOq/8zL4YxCDId4Z/h71OsFLlVSuW1Bdv10FYrJu42iuXaJWC0ZzNQQtFCqHE1b7xe5i2jnUTtK3xoC8crFWs4G45L2ZyUfM9c5z2r3n+vXOBwwSjhE+FWIgKSrSK2MlDR1qEh4OMQkI+s7txd1B05nPeca2vw669LgfvC+9ocNeyX3LFtSw3a7km+yv+Df/LgV5BMMPYTWCOmEqwjDtSAtbwWBoXxZeZVnMWMZhvlQKTNdDmSg1FpQQeg3S+mjmy9j+yQLGVMllyYXDvcFWyLTIhdTN6JPvevWe/CIGOQ6KGYQojCnkIbcfhR6iHfIfaRYzBCj0tOpM5O3Yjs8bxke3ya/ZrkayZbaZuOm8rMHUy/bXMuP07Sb3l/wTAasH7hKPGgQcShJ0Fq41az1bK8crqD5rTglWuk8HTBFKfU7NTuA+jTY9Mq0dDglYBcv+NvTZ5/HaMtTJ1TDZndoN2cPcoeXL5wnurfnF/1oEFwzMDN8NARIGFYIUUxGLDfYE6PtR+gD3Ge/W4wbXTNFGyaXK2MU0vAe6K7uDwlbCCciZ0bnayOEP56vxT/t6B4oMIghWChMSMBklF/MTdhGRCqUhXDQoJQ4ejC0bPS1INEjpSJFF2j8OTKZB+jmWN70pDxhUCxENowQY+wLyOeWJ4TLjK+eo5SnkYunq5xTqdfAw9yn7gvrj+r34Vfrh/1T+y/jo8ifv9PG68uHsdOvN6JLkO+T+3s/h6+Ec3nDYYc+O06TaHtsi2dPXbdh63lbqsfOL9bH35fmM/B7/AgbFCBEEywHO/mQC4PqO/egbxigLGjMXCy3mRu1dFV92XZpXnVuDaaBdB1nzUGg9XCHSEsMPIANa+83mb9MaytzJ8dJ4zpnNU9GEzZzTPd0g56fvSfcb92fynvStAoIQHAnzALn+mP3M/V/+bfjk9BTucuSb2yfWNt/y29LQO8mwyB3O3tMR4MHhO9xh4tzryPZHAegESgNn/VH+HQHjAWMBQf/b+Zr65fnF7H8KIy/RLwIdhyjdRR1eb3LFcZxyHlpYaJhnh1TCWM4+0CblALH3tfM75MXfp8eGt1uwHbt5xi7DJM500LjPrN1S7p/7CgBnCrcMIQpfFEgZFBm1D2wNKQbp93/23OsY4g7axNTNzeDBYMTOxybLCs1V0rrSWtNB5mzxMPWP7/vzEP14AZgIKgdkAqgB1wLqATIFhQV6CcQDZAbBAbIFnCx7POQ0NjZcScdbz21Ecad0U2X+WUBcHESvOtAwThZj9gDe+NZ40OjI9sZJuneyFbqTxQjO8djc6Rfq0fXaBDYI6Q0nHLonUxneExQVoBVuDAEF1/ca4Rrfl9T5ykrD7MC9v5a0yrxLyCPLqtEA3AXhc+J/8Jb+uAItABgAyAGCA6sHhwQ+AJABhQMN/YX6Cf23/1r96QKK+/UBfyVENGo2LTmzS4lidHE3csZ2sGmGYAlcRkLFNMghDAxE8C7U8sqMw229oLxLt3i32b9azTzYD+NC9RL+bQdjDH4WVyKkHnwfZSBdFxoO6Aa9+E7y9eGT2jDPuMBuxBG6B7zVv/PCg8rO1JTj5epv80cBIAcWBwcNkg9MDwAJywNcAQ39cvmR8G3r4ewJ7nnsGu5B8JTyM/uM/mf9lRcYOalDcEZ+UXFiD3X/fxx/CHNMX5tWfkQ+LAgatQBH5ULNFbzlscCuOrNeuBi64r7gzlTeIO0kATYOTBkfICsptSR1Gc8fKyPOGGsGoPPs5OHd7dgU00rDGr2Xv328tMLiyyzXMd4Y5gfzR/heAEgMARKGECgOYA7kCkcD2fxq+N/zPe6x5qriH+Qr4wDkGecl7KfzX/oDAD4GQwVGHFlHSlNDVZ5c/2bNdMl82nqNbehYZUbKL3sSOwIh8LbUxr7erViogqy3t8DBisrh1Xbks/bZA1gc6islLgA16DLCKgcgWxgjD1gDbPGk3EbJs71owA68t7mwu6K7jsTd0DjgpOtJ9bEC4QhSDEIR/BRmGHAY7hLVC4oEgP1f9qHtBuoK6KPii96M2obb6+FW5kjqS+7F9Or8owSaB3wI0iWNS9JT7lFGWYBjsnAId+hvjVrLQpQ2VB45AfbuLNvTxLe10KskrCyzj8Nh0+3chu6oAVwQJxoCLiQ4wTzEOoYngxlZECkG7fXU4tjPwsI2s7uv3rGts5/Ac8ci0QXh1PG/BCYTfB3dJTQoHyaXISAcTxdtEOADHfaJ6fbdPtc00T3QMNPn1jHaO96S5J/sRvP4+lwBFwrtDeINoAvBDqsxa04KUNRKR02KWjVooWY+X7pL/Di9K2MOe/a/5HnTW8kMv7W2vLauvt7P6N+D7kv/ogxBGUQjkSzYMQIymC4HIBoQqAHM9BDqAt8i1ebJPMH4wQLG7sxM14HgWuq881r9nQUzDM8QvxVfFKcNJAWh+hT5y/bB8nTrb+Sn4GXaKtqG3fzjLuuP78PxXPA/8a/2o/tk/TP/mQAn+g371PkDBLsorzzHQFBEuEzfXfpnI2giZctPjDwZKxAMx/op6EbYRM5Kvxi8drqjwnzXAedf+AIK0Be8Ig8rKjV5OTI4VC3iJqIfQwMx7a7giNzj0iDFDrZMryO058F9y1DP2t8e6jn4BgJICoQToxfOHHkX9wupCBQIrQa8AIn0luuT5TvkzeAj3lXjTOZm5fXh1OI05irravIA9Qv6zffV+qH+PAECH947PESwSepRul7lZzhofmb6Uto/2jIKF2EA+exs3MbR/cRBwPi9QcT02A3qX/rlCLkYfSYGLC8y+zEUMKQvziDvCuX3zejm2j3K1L6rtoCxubSRt+W8mcmx1/PoVfZ5BEkREhhlHqYfoh01GIQR0QtNBaP9L/Yn7yDnkOH03lzd69tw3H/hwub26HTpZukg7Y71hfq4+3z92v0WBScDbg5kKCQ29EJMTHdXfWGCZv5jQl3JTmdH+TKTFDUBD+mi2/zOa8SXwcG/B8kI2NHiWPYsCocVUiEYKBItejGrLQ4k7xdrCND7Q+ne0xTG2buOvCK8RrhMvEfBb89834zrgvxBCPMTPRsbG74dkRsZGBMSgwqcBNz8qfT067ji2Nzv2fbZDtz93argBeFH4xvo6u2e9Gj5Q/yC/rT/df88+EYH2SvnQGpHGkvVVTRjJm7ab5VjhFBiRlI2kBhr/ariUM+Hwsa6M7fOtE/ApdIo4bD0ogjTH/8tKDJNM/00QDhsL3Ib7ASn9V/l89Xzwgq48bLhtSm8hLxKxQ3RBuR79EMBQA5tFuocOyA6HSAYDhHjCzcG9v3i9Z3t3Ofz4p7fJt6K3cXd8t/34rrjAeUY6MfpYO6d89T3oPml/OX9y/zQE7U1H0jUTnxYzmQacchxcmvtXelQHkmTLacNvvCt28PLR72Utfiy6bgCyOHXdubb+QUOTSCvLyM3PTbRNfw2VCtqFEH/3O/N4CLRmMJUtoOxLrS+uQi/Jsma1tvkc/M6/zMIng7ZFDkYdhVcEMMJ+gJ0/vf5t/SP77TqPOXa3Rfbu9vW30rj8eXN5mvmg+rQ7GnvEfVn/XkCawKh/mgTIzVsSqhTIVxDaitzGHSpafRZcUubQ6kuBxHR8+HZgclXvNG2UrcwvmjNittA5wf3Xgm8HMksujb4Osg2ITR5KtsT0ABQ85XqAt0vyvm7UrPrs3a6Sb7Ax1TWWuRI8Jn3iQF6CY8PghaaFsESBAs1A8f8nvaP86Txae1754Lhftx33MXfZuXp5o7o6OwZ77Lx+fCl9DP75QRwBbsEyxhGNVRIX03YVexhom06baVizUz1PBg1QCNbCw7vP9ziy6rAEb5WwAnKC9rS5+Hya/39CmIaMSRLLvYy2DFrLrAhJg3++Z/uEukA3inRacdRv6+9Kb4ZwRPKiNgp6LryX/ouAWcGrwkYDYEPqQ60CtAEy/w59nXyXPLW8L7qOee/5B3lLeRF5EfncOmW6y7vZe8x7bTuf/T1+lj83wmSJB8930rZUfRZ12Wlb25tl16NScs8hy6qF1/+Geed1o3KMMINwE/Cqs393W7q8/UfAkcOYRffIMgp5SxKLXksfSCpDOL7w/FP6lrir9qb0IPI38WVwjLBZcki2Yfoz/Ii+Tz8Df3/AxwJXgshCrsIzgWM/PL2Eu967//tXu/q657nQeac4uvjE+PQ5vzp4+8Q8mryhPXi9wr73w1DLfhCe00HV2Fhd2hwZiNfoU8gQrg7dCsiEzv3geLj0i7Hj8PMxHHMotvQ6OTwxvmjBGgPXxjOHlciwSPtJBgglRW0CiX/3fQB643hE9sg1lzS+81VyhHLKc9y13/f/ubj75L3Q/xf/Jr8TP1h/R3+Z/0++RH1z/IA8TTxoPGu8070S/KG8PHtq+3K7zbw2PGn9dT5XPiZ+S0PNSvYN9FCKVIhYF1pG2VXWRVIoT7NNxsmLxDv+77qVd2U0NzHEsdFz4PfJ+1J93gBTQmKDkMUCxgJG6sc/xzqGO4QGQcE/MzyjOv65CXfxdtf2EzT4NB50ZPUq9pv4s7pYOwA7xHzOfaG9ibzou5p7aDvt/B670Huzu/D81H4hfpd+Yv5uPsg/J74OfJx8Gry8vY99q/6zQ9yJgkyLTmuRJZT1l7DX2VXKkifQd06uCjdErT95O7D5M/bh9Ua0CnT4d1/5S/u2/fxAyQQexbAGGYWdBTBFrYUNA2qBpwCy/7I9G/oTt+12hncwNxu29XcOOAp5BjmQeg87S3xnfO68g3uJeiZ5KzlauXJ5NTmiOt68ef24vu9/loCcAdKCfgFQwGE+5P4V/fE9iPzNPdXDZ0ggCbOLZI7W0gPUahThU+kRLJAkjsmKgEWhwSE9aPoJuDH2nfWG9me4eDly+mn8VP7dwWeDngUQRc/GhQd6hhaD8sHgALQ/U72/+3g5Sbgf99n31DeTt9O41roj+vo7Knsxeq96ZHonuWO4vnflt7K3srg1+SF6dPwofjo/UIAMgP7Be4FdgTeAsADmARYBUUCWgCfCkYcXyekLco3oUI/SplKakUnPLw30zYpLAcczA7xA473/eoU5K7eBd3w4tbl6eaF61n0BvuY/a8DAAu4DyYV4BaZERwNpAkyBaX6GPGa6yfl8uEx3lvaydln3TbhK+Gx4HjjoOSO5uXoiuiC583mPuju6VvtufGZ8/z0Svgf+0X9F/8wAAYCLAS2BdMGFgV2BGYD3gi4FZEhrCcqLbc0Az2AQ9FCikHLPPA7CTa0KnMe4BJSCFP9GvS07Pznk+X15TDiduK75srtm/Rp+ocAMAQzCGMMYgvqByIIsgdUBbD/tvg47+rlJuDJ2frTjNQz2X7cz90T32/gA+LJ5qTrue208CH2Hfpm+iv4E/aZ9eb15feA92X3Dfl5+yf+4f1y/58CdQjrCrMOiRZNIOkkGygHLww0yzrZPEw7rjVzM/QxmCpHIeMYRBDxB/3/aPdZ7nvp8ely6HTnn+gu69/rn/Cq+av+NACfAh4I2AeDBpABMvz19ir1V/MI6zvkx9xI2YDVk9b42Ojbb+K/6Bzt9O1C8Zv0rvcB+g396P8iAGT/M/uJ+M33Sfl/+E741/uA/9IBQQKcBA0GFwpGDYIS/RfoHQMi5SYnLSAxqTJEMJUulyvGKiYoxiJsHNwWtxDcCX0CtvqX9BHz6/Lm777udfCn8Z3xsfNJ90P44vmQ+l35FvZl9Zbzeu8c7SDr/eio42fhC97c3NHeK+Fq47XkIOkz7IXvA/Nv9Un3nPnV/Fv8PPyx/Xz/WgCM/sD+df1yAO8EbgbJBhkHzgmbCu0Nrg8wEYkSmRWMGp8ZTRpGHAwhJiQYJGwidx4HIM8fOx4/GpEX4BYbE6kOhwYwAiz92/tt+NjzMfPw88b1MfNG80jwLPJA9Df1IfLC7kvuAuyK6uPlTuNa4vXjG+QA5FfkT+aH6r7siO9u8qD1xvdf+rP4e/YW+JX5Wvtb/Pr7FPtR/nYA5wOIB44G7wjmDdEP+Qx+C5EMPRAIFmUR0Q/+DWAO+w2+DNEL3Am6EqoTVhX3ETATkBYWGHkZ9RShFn4WwhUKD3wGQAFy/RT9Hfrq+F73Pvfk+HH0ivLk8FPzhvRc9Nbyou7o8CXu6OoW557nwupz7e/wg+yp7ELvWfTy8o3wD/bQ90H9fv6C/Of4CPrm/pH9gP9E/7oDKQa0Bt4GVQEKAiIGYguiCFUMiRCLDREPOgydCUMJOA3qC+YLgQ0aDMEOJwvxCUILYgs2Cp4OLw6uC5kP4QwuCf0GhQkUBGYDnAQiBEUAr/yf/Wr2Eff69U70bvLt9e3zsu3F8LTwne9K7QPzl/Qv8ir1UfZj8Njv6/Ym8XjytvaZ92X3E/gK+fzymvga+Mz9Vvsw/dwDnADqA6L/pAXF/YYKfQ2vCYYKYAr5EhAKmwwLB0YHkQgoDIEJTgG0BgkKeArzBG4GJwdsC78PHw1+CXgKCQqRCCoH5QAyBeb+iQHsACD+kvm4+aYCFPmK+/P7rAHG+8T+4gBh90/9a/kS/nD6+Pjz9Wb4xAET+EP4nPcy+KH6NfxB/wDzO/kD+zr/Mvp28+D8RfmzAQX6dPyJ+Pr7FgVm/IAABvvcB+AB7AJYBUj9OQVrAE0L3PxkAq3/dgLJBK396gPx+KsL1ARGC8sDAQe7CroDRg8GAB4EywNvDZ4DN/3HA6r7fgOQ/C7+3fah/gkGkvnc/n/2/wHH/vwBswEt9WQAuAAzBpv0y/ra/QX6Yv7q/IX8yvMIAUECfv5F/WT9+AOfBA0G4AMwAq0GPv90BQMC0AB1/xgAPgQ6+7IFefl5CJH9Yv4jB5X/fAgv8lsLKv7S/MgBfP22AU/wtQl7+J/7rANW/RAGHfarCVoAsf2JAcIANQcG/VoEv/uFAeb+ZP3G+xj7ugMB+oP9v/mRBs/2hfxdAtf/qAGG9LMMX/qZAtD3CwXVA6z2yAzi9RAKUf4lCOkAtv40DZL5mAzgAYwFWgJ4AUYH6P1vAlgDrwFr+Q0CawSM/of7/AGeATf90gNP/dsCKf0Q/18BQ/x5ADf5CgIW+gj64gBT+fcAPe4PBQT+wfht/vP1egcN+5AFhvYPAa8BvPd0/v/4wP74+NP9BgBf+r8AtvhDAzIB7P+oATH+EQSvAcQFs/qDCl730QkgBdIBWgId/FYV2fr5CsIADQhyBoUBIgif/VcLyQDaBE4DQgB7BYT7Agb9/ez5sgWq/Y4GwfQbAL8Ek/obAkD6kANA/EYFnP8J/YT7wv1qAfv+SPsD+bMBjP4w/4j1HwCT/vP9UACp/yz72v2jAKj8Hfh7/PP9aPlmA2v7y/549MIIFgO9+EP6nAR3BZ3+rwNT/RIFMgEPBagBUQPV/v8HwgDPDpH/+P4JDBkDWQyc+24KawDmCz0IsftICFb9NAtK+gMEn/3dASADaPl7/pH7Ogai9ub+8/uo/B8A9fZL/yn5uPWEACz76vpP+Vr5kf3CBGT5Y/gNAMb5TQch+A/+9v1W/5r+9P5k//fz7ASn+WYD3fj8/OL7C/4l/z77IAWv+k8COQMNCJ78uwLxAekNdf1GBSUKQPw9Csf+iA2I9SgK+AXl/ZUIC/5+Bez7Dgmv/l8F7/vgA00H//4kAcIEVv1mAZsIUPUyEFnswQ45+Oz/fvz19LIN8emGFK7kNA2+9Er+TAAH7wwSQuK6EvnwOgSZ+Wb2Iw2L8RwLx+9lERj3fP1kClzyyg8M9CQBCAeC+DENTfFWCDsCi/kZCx/zWBS/9WULeQT+AJIPDvH4FkD6JwlvAhD/SxBi79sR3vvs/WkF7PekD5D2tgG/ACIAMARr/wgHvPWrBfYGwvkkBbP6fv6+BrD0PAUF9AX6rf/m9UsKQeZnCpnvewPuA8/llBK/5pIRYfX698YE7/BrE2Dq3Q7d8uX9uwjw85QMeehjEDv3UQFUCRjoKhq07E8MdAUQ7q4iH+QSGPf1nwg2CMzuZR7x5zMbLPBlC4kBjPoaDJf2QBL97osPMPsu/NYKr/rUAsf6TAYKBM376P1wBWT/2v8GAicHl/YwBvMIcfSHBpf6sQZJ9TwDBv+c9U/9Zv6ZAmLv7gNB/agBQfuJA/39AfpbDeD2PwUf+9r/gAaA++8Eb/kPAy78gQcT9ggFmQKJ9sIGTvqEEUbtLQCbCNkDGf6499YQK/QEDZ/7jwdCADjz0BuG8sIGoPczCqgB3/VCD3HwahAa9AQDdwMb+fQJVu4PEDT5Z/2H/y7+aQeS914An/vCCOH9rvdoAEz5QwWC/C3zZQv07xYF+v8K+wQHtutqEG36KwVy+/750Aic+XMP1+g2Dkv2tv5HEFjl3hMX6rYS2fyq+1EF+fTXGRLxygtD/mD/nQkgAdgJNPMcB+MJcPzgBTv5pgYpAJADlQi493YECgBBBmEAT/u7CJf20gWjBGv54gAe/WsIK/j8AwH8+fZAEJz3iQNS8LMM9v1y92ULL+4uC/nyfgVQALH1bwIP+oEH+fYN/+z9xvscCWv5hwB0/Hj4rg1T+dz6kfuTAe0PKerVCwD3kAUSA3/0yg9l7RYQ1PGuDWf9DPQQDs7vchcJ7o4Gov9b/ooIJf+KBI3wjhNHAa3/fvrABfoCq/5rAoAAl/xF/XoLQ/i5B7H7GwBrBOYHofz1/A8HSv4EBV/+zv6O+xwHsf2EAKH4xP5ZCMH2fgPn+EcDWgCW/r3+Q/q2A0//FgGJAff1zAzi94gJvPU5BZkAyvXJFzbjdxgr4zcX7vxl7dwWIuTtHt7mURKA+Wv3/Bak6dkUv/OyBR8C2/nREc/wAgoY+b0DxQ4P5bYW4vPSBccFzO5pGIjefB2Y7H0CNQfM7F8aF9/pIGbpegvq/tn4kRmL4hQb2urbDb/5N/n1Dtbl4Bgb5tEN1vit+2QG1+oYF63oxhOd7e4BxQr07bgR/+moEsH0CgJVA/71Pw0Y8zgHbfosCNP9QvcZCbf/5QJDAU38NwRfA04DcPr/AcoJ4PSBD5n1LAiVAmv5lBBq8NgPOfRyCjj+vfjDCQLwHRYg6U8MK/qp/w0KhvDWEtTx4Q5A8o4RZvoj/oMGIfBpGFjtwAca8DkO/Pw8+GIF2PWXDsPtLBee5YoO0ATf7+cWrONkG1HlKxD/+qbwjhva17Mll99jFBL6J+/tIMDUwzFw1F8aQf2x8/IfAdSkLbHV8iM28ND76xDd3QEtCNbMH5zmvQfKC/bozB892z8eZ+roDJ8CnvJrE6Hn4xj28LMMo/c8/rMMsfMqCyn30ABfAer+FgGE+2L+7AD6AkcDavYpADUDvQdW+2L8igQp/WsKBv3h/TP/2QFm/o4CYwE1/hr4nQVTBtL40gNA9GEPofpU/s0ANfzoBhn+e/5I/xIFhfr5CIv13wdr/23+OgTn+uoJLfNnCmP6kwOv/Cn9Ggyr7V8SbPFyCBgCYfduCgzyTxn84ZcUzvw3+fcLiO3CGWHiNxel9sX9nQm38E4U0ustE6Tv2AfbAGv5ThCZ4poWoPU1ARf9yfv5CF7vqhHV7eMLAwJC85cOjfYXDrD0xAP1AXD8iAl47mMQCPj3AB4ER/YwCLH9YQTk9K8H4Px5ApUCyPLfC7P6NALo+/gDlf/6+1MAzAinADjxmw6Q+AQJxvmX/DUFsfnJBjn2IQq69AoEv/3LASQFwPHcCUf6rQg6/Rb8wv0BBQ8DR/hBApICmv4+/04Def9E/zQC1//wAGf/cPqfCNL+lf1b/NQCGAKY/TMEkPh8BNsA0P+XA4D9MgMU9zsTo/XnAXQHIO3oHVTprQpc+pX/PAWx94EPp+TtGtjvkwcN/8jydhem6mUNN/mH/T0I1vKNErDsZAYSB7DyKg/c6zUWiux+CQoEjfBKFDnn4Bgc72QCzQI39ckT9ed/EO31yQD2CGPw8RSV7KgH8AIl/VMGyPK6EK7xkA74+MH69Atz838OMfOTBVEBa/lPCGL+9P6T+DgJMQc99JEIvPUjCRYDAPcXClXyIAuT/gsDFvavAbMDZPvYDfvrFwp7/oL+/weO9WgEHfrWDlX0oQPQBvTvPhNe81sNeu+vCSQDIfZXEePprhPe7HsU8PWn+WYHZ/R7FpPrOAt79qgJXf34Af0EafGzDnv0ng649er+2v38AY4EO/mKBB/z9Q7s+df/YgN290oHD/6oA1/6LgHV/lb/EglJ9WcGuvS8DbMBA/W3CkvyMBMa8lYClQTP+PgDRfWTFKTtUwb1+vUDrwVu9CcLAPPpERj3SP00AiABIgIe/c7+qf83AgAAWAOx89ENAvIHDzf56v69BWjzahT/6aMRDvENCBYBzfeWB5X1YA5s85sKpfTWCi76TgMWBXDtthQQ8OINb/X+AND7MQcnAdL0QQwm8SEUBOeWHB7wjP6jAHYEOw1f5S4cL+HbIPnuxAcu+DT3Mxua6UAUHeUuFHv61wLuAS3zZBUR6GsV9fZ5/e8GNvIcEc33UwRV+H0C2AdL9DENO/OACJn5vwKYBNf5TwYv8E4UZO7GE/bszQI4B1H2kBIE6boMOfTZEjHzvv83BD32nQ1t9lsHRffeBMv+6P9kBgP1xwtc+Hf8yguc9WAGcPzM/SwIA/WTBz79Z/33Apj/mQCAAtn4hQcgAxT3MQdH+EQMHfZRAw/8sf3zAqv+ZgNw8ekTLu8XCA0AR/jfCbzxuhLX6rYUDvH1AYMKJezxGIvmhBHg9oEJR/pc+uYPavA3ETPwPQzb+TAEngPS+DIFJf0jDRfuNgr6AC35pws782INi/OXBfkIae9ZEEDyZRMW52MS9v/t75UZTt02JX3kzRM98r0BoAtg6kkeWdcRKuThJwu0AhXzuBNt55AWFutaD732bgaf/eL7Bwkf82oQ8vI4BzL6EAYp+zwBF/9r+zgHqfZ+C+70aQe9+mYFfffyCmr47/81BSj4Iwut7rgRp/eM/CkGdgB+/HUGKvHGEyr1qP5kCHb1yA7078QSregbFTjzRAgd+vf3YhjW470a9+AlFxL6e/iUDMDraxm06gAN//jLAeEGTPUTDgbuzxAK99cCFAQq9fsJsflBBnL5S/+aBYr7XwcH8asL1Puo/ooGRPRUC/X05Ay/97gC8/24AA0EfvrGANX+OAmJ+K4AmQDx/AUM6fGyCQ/47gUlDtnlCRsO7eoJW/4GAMcFB/PWDNv1OA1e85UCywWI8UoSBfYfACn7VgbTBtvzFAgc8e4UrPSOBlz6TPdAFnXwgAjn+v37dAOTBdP9qP6a+NQCjgYz/2T92/vcA9IDMvxPBsb50P/9AmsCSAKc91MC6v7oBMgBB/VjAUUGBv0KAN30xQqX/HsDrgDy8GsTgfG0Cuf8ovYXCID5FwxW7lwS6eYMFMj47PupDm3hfyHX6skKG/1R9uYLsfntB1H4SP86/dULlf2Q9lcPCOszGWXvgwg//hH3gQ809zAIfu1OFnrrChfV6yYNTvre93cY0OpqDl7vIwuVAu78lv6a+mAIKfvEA1cANPVVEFvxcRAo8D8HBgbY77oUwuw/D+jwwwuQ/Nf50geL+Q0KrvX0Cy/wfRPm84AEGQdn8sUONvQNCHn/n/1a++8KbvR/Ckr4nwJjAdr/uP04CUf4F/0sDG7wPBhJ4hkamusQDEYFgOwYE+fpVBjH6wcNoPMZA+wIf+7EFHjfzSJf5x4G5gsp5l0bT+yPD8fxEgum/V/+ywHx+KYKN/u0+3L92gjU+TsAhAKz+hEAMQ288aoAjAcL+ugEtvrUAi7+1/+qBG/5BwmH90EG7P1w/vcCZ/9eAED6pAkt+bQCsf1AAYwDOvuxAGgCtPs8CVr1DQbV/NAGX/ioA3cDYfPuGAXfLhTm/jH+agEW+MAHsfnBDDvxxwOKBGb4MAaX+PMGHfg1CVr3IgaXBZzoEyEF5agSgPmy/EgEyQYv9jsC3Avq64MX0uXVGAPz1gFhAmP4+Q6p9nL/yQSe/GgCMAhJ75cSGPEbCAoCefsW/NUJOfqI/kYJwugxHlPoUgjS/NACa//N96YKY/guBZL5Cwf08+YN5vVBBuj75v62A5r4QQyn8Z0N8PGiDk74mQIi/6v+mAbn9DIUjuhtEv3wUA899uP8UQfi9QAN7OzWElLwjAlA/IsApwD//DYIOfKiEN3wpgqT+mv9cgp/8pQOF+4JDpH7VvsuC43wBQ7N85EGTAKc+fgDjvmFCQ71nQs3+bz3eBTj7XgMr/wp+Z4QJ+9gDnn3DAEIBdL8uwI1+HMNefcPA3X9MQcr+lgFwP4B+NQRlPKIB9n6VQP9+5QMeepOEon2AQNMBhzx5ROa6yIZ+uSCFh7wUgjIAbDyFBe13Fomy+FCEUD8aPNdFwvn+hcr6fYM4P5+/of/Y/oYD9jt9Q7D9//6cgpD+EoF0vgX/9oKO/PtB5D4QQK/BMb7WAEQ/WIDVwAn/qL/YP/3AkT/4/rVBdv72gqT730NqPpd/YgNRulDFCb1pgJ3A3D6zgO4+acNmPCTCZP6QwfB+sf+SAxd6m0Y2em3ECv8ZvjcCUf6bQH8/MMJsO6XElX0JAMNAsv8KwE6+8cNfPAnCar5DwdK/Pb9+APp+U8MUuwYEy/yhwQ8B8zyOw+Y7LgVsfOo/vgHePQXDFX2VwlG860K9wCU8KEUS/BTBpUAffXuEl3spA0a9jcGcgJS8DwYxeE6HfbsPAXjCxTmXR1B6tkQ9fJSCqH6Gfo+E+7lexrz6CoPN/9g9N8PzfPCCJX5BgYq/uH9FAa9+BcGiP7T/Y4Eq/yLAIIDXgAf950Pf/SXA7gCkPYHD3rz3gJE/xgC4gKC9twHjvvQ//YE0vhvAgL/fQLe/e4DK/zJ/eUAuARN/Hz/0PsWBdD9pwDlADf32RDu6dAVQfBpCQP5oACBD1/lhRwu5SAYYPL6/4gNKu2gFdblBheS9SABDwEf+TYScubZGHrtqwd+BQLyqhVB5gQWDvWc/9ULqfA/DZvyPhEC9DsCqAOG+E8MIuz3FUnxJgKFAW36Zgel+nQD3/M2Epvw9Anp+fAC/wNy7vMXB/MIA8v+o/ndCgP77P9oANT3RAyC9hULWvUnBe4Ba/mJEFbuZw6U7q4Tv/vY9VwOIe5DFgDvgwaR/ZD8bw2W73wO5vMhCgn/FvwQBpn5fASM/M4F3vtm/PACvAAIAfz84/6rBbP2Lgu182cGRQBh+2oBPvvGD/PoGxfH564Rafzz9+4On+pwFv3ugQsr+AoAPgbi9zcGjvnOB+72QwmL+bUACweG9J0NkPTXCJL5kQQ8A+T2OAuw9BoOYPR5AtP9AggD+/71axVi5ycYRPCQAZsIavI2EkbtBwt9+asH+v/m88oNcfbfC4TzTASqAtT7xQg68BMUxfSm/XcHhPd2D0jwYgU1A2X3mRFe7fAN6/aXAYgLDu+LDwPz1Qev+JoJCP5w+q4AagFtBc33EgXw+UUER/rkDBLxbw0d9Mn/RAxJ9TMIb/MVCxr45QY6+7UAmfnaBK4A1PlICkbvOw8j8SMPQPgL/n4HM/DaGevj0BVp+qnybh1w3N0f6u+f/ZcQ/uJKJ+HZGh/o7nv46B9P1astStZiHIT1Efd5G2fZMS181Wkc5flz8fcgUNF0K6/nyQIJED3fsCWT5VcPD/yI8T0bfufsGWvsywWzA5z3yxCr67MUG+rWCsUGnvSZC5HqKxJW+2H70wac+Y4ACf0HC2v5Wf9n/V4Awwkq9SADvwAi/0wCZP08AR8A7AD//CkGNfifBsT6MP2rB6z45QTP9tIHiv+v/g39TwLEA0X7ZARh+fQHwvl+BWn+LP1mBfX0nQ909I4CgACqAo7/v/0oChnv3RSG7oELHfxr++QQTObhGa/tSgkIAzPwNRTH7wYI1Pmf/60IEu+SESjwPwUZBxH3bgYK98oN5vFZDNL6PPinEd/rsA5U/qf5uwKL+UsQa+7VBfcCAvS1Dwz2ZP90A639oQEd/h0DY/qMB/j85/zjB8P1AgxQ9w8DPP58BIsAWfSgDf75tgNq+JgE3gDz/UEC0PtN/qkKSfVmBVv+2/vpDQns8hIY8TQNJPbX/UUTcuTxGD3slgv6ApD0PwvZ9FoPL/BXDRD9sfMlF8Tp/A6H+5L3DRPJ6B8Tb/O5Cdf75fnLEkfnHRr97rsCdwtZ8msGUQHz/SkAh/9KA6f3Ggor+tv56Q+O6ngSLfdoAOUE0PnJBpD6sgfw9fQH3P6H+1QFRvycAtL+7PnIDBzzWAcW/oX+BgLB+i8KvvBHEPvxkwcNAnH2NAtm9ikIl/p9ADACiQEP+vMISfdoBAEBfvw8Bbz3hwg++RsI9PN1DM33oQENBGH1khGV7NYOgfUPBxf9MP0SBR30hxWB60MJqAE0+eUGy/opBBQC8/evBU4BSAIW+MQDwAMw9+sQN+TcHE/sVgQLCSju/ReX3+kgU+jkDm344/wADRLtJRka44UYIfL3AiwIPfB7EmPw/wfw+dEJ1/ft/tUFofgQDMr1xwM6+8AHhfxm/p//HwAuA8f8CgIj/vH+fgPq/hL8kwnY8esMA/smAEUCKfnVCxX1PAmc+WIDaQPl+RIFmASS86gJ4wH696oGmvjqBQ37nAaJ9mcKPfCaCQsJPOmtG/zh5xjz+c/4SAy+7t8PkPwGAsj2DQjx/JH7uQfg9n4F+/4f9wAPjveOAuP6cgCaCbX1yQYI+hgAMwQQ/wT8tQDF/ewCiv0zBOL37gXG+VEFCAE59C8OBfKLDXP1KQYG+zACxQZb8QwSWvXLAQ8B2v/ABxP2dgTF/ycH0PnO+jYOn/AtDcj21wJKBar1wAmO97sIA/crAXQHgvZbCVH6VP6zDuHqoRZG86v+YgvT8nEQjfDKCbT7YQRN/r/5WQqJ+GD/wwsO79oMXPrS/lQHzfW6Di7n+yBE42MQ/f9n7mAbh+YhEk3zVw0A82kDCAcc9ZEKJvcDAN4EZADJ+ZgGD/gpBDsCmP8m+XkCjAN5/acAQPwfAJUGFPu2+vkK2PW2B1T+GPnHC6j4JgJ3/MYESP9rAqb7Hv/SA0P++wWn9b8Ea/2KCqL0dQax+ccHnvxP/zcGDvUJDITzZQ2l9OUEuP1w/hcISfUuB0kAtvhXCez5UwQI/g3/uALL+pEMru8fDdf5Vfo7D5/wsgcq/t79gAgr+AgDuPuhCfr15gdr+/8D8Pk0Aj0IKvGPCzHzugw29qoCYQDs+eoDaQO49UkLhPX3AskG/PQFEP7vtQloAND98AAQ/wAAdf90/sYAvf7uASL5YAjc+lUDgv4G+SoPpPHfC1HtBxEE/Ib4MQeM+lED8wKD8i8SCfQi/+EOLutmFPHvBAfXAOwCkPhtBeUA8wBW/9r/uADoBoT51wJ5AjwBkwUf6N8ixuhUC/X6v/u6Eu/suhCY6oIWU/dI/XIG3/XtD9vzlge49wQLLflW/6EF6fNqDobwowZ5AAn9mQB29zQLxvt5AOn5XwEHCdb2WgIUAuEEbO9jFLXzzgW0BDzrQxjb86gJYu93C/r9TPvmCXLuJBBC70IRiO/cC9P9kfJLG+3eBBx06w4Nh/tH+LETOuraDHD8ugHd+BYHzvxp/IoGQvd+B376aATn/Ej/dAVA+gsJ3/GQDoz6cgAwAMn7Ngzi8dwL//iOBL/7dgKrBcXy9w029vMISP0P/L4Gv/U5DqXymwgB+oMEdPx7BRb6ZABVDBvo6Btk6K4Ph/mQ+qANc/P6Bp78wAPd+LYHVfSZC835Hv9w/mEAzgPq+ur+JgKF/FoAlgn27P4PovaRCkL3NABiB9j1fgm19TgLvPejAvP7owQYAjL2+w2f8OkNAPdbB7/3Ege9/Cz9yg3y8lkIWPqxBtT5XA4U7pcOA/0+/4IB3gBiA9T3oQV+ATwDMPeYBj/+nQcK90EEpv3T//UBdAM393kCGwJr+VcLvvIXBgUBAfiIDTT3qAfa8rcK4gCM/JoJkOm5GAPoShxk6hQCJAWn90gV1uE3F/TrwxMa7iEOzfUg/P0KT/CVFezmtRFE8mILz/hKAx/7WAFHAwj+n/+V+8cJ+/EjERDqKRnH56sNQ/zZA03+zfdFEWnpjhub45oYDeyzDHEB4vnJAkD8QQpf9mkLj+38FJT2rf9TBlf19giJAT73DQTAB6/23gApBoD5Wwe/+df7yxDd7i4HkQTS9ikEcgKt/7/7NQUw9X0P//i2/NkDfQDxAab7OQU5/FYGTvIaFAn0LgP6/TL8bgzr8DQN+/GRDAD3Iwcd/t75Wweq+1kGyvVOECfvqwns/Vr9OAme9CkEy/w/C03zawQe/RD9fApe9fAAh//JAh/7RQJE/6f5rwd5+zr/2QMK+7v/GwAkBZ78Sv48A2f94AXh/0z1EQ/88sQHFAAE/JEEJvOeEnbzHgrQ7FgSWPiCAQcJwOmTHJDlLhrv7icHJf1WAsUIc/FmElrqthrJ6CoR/vfX/5UGivBeE9Xv7wok9NwDRAh3+s76ywPlAJcDyfmIB6D1MwiVAPD5YAry8JkNkfBPG6zjvgyaAQP7WQyd6Twc0uHCGZ/sTA/l90X3nhAG7ggayN2wG/HtCQx+/jL4gQvF7tQXK+k0EebzTQeX+joE+AHp9y8KSPAoEMH2QQYJ8IMO//h+/k0FyPJwC2b2tAr78YELJvdpAywExPaKDDjxrg1Y9l4L8PkI+lIOJfKBD2PyKgma+jcEkwOp9JYP1e9QC27/qv2aA8v6rQbb+5YHRfkw/YEJK/o8AYX+hADF/+b+xgLE+DoGTfxr/9kD5fvNAl37TQX0/nv+CgJU/JUE9v8Q/Y7/hwDa/woAFAIn/if+BQEDBP/8mgGa/PMAMQeO90oHJPjqAysDNfxcAQH8PQiE90gKvPeJAyD+JAHCBAr30Aqr81sLJvngA7T/YfVcDnD6fvzUAqr70AKcACIAg/1b/mQGJ/qcBrj3awaf+yQDSgOL+VgDYvy3CNb4fgHT/dIF9fqm/bsGef3F/QL/WwUp/9P9Q/xpB0/94wGG+CoHSP+2/OgEb/dNB6/6qgLz+4oEpv+l/GQCNwBaAn78fgEn/hQGRfu/AkP+QwN1/+z9MwQU/YwDPvuvA/39EQQR908CEQTb+xQA/PzoBOP+iv07AsADkPrNAgMCJwFh/XICHwCZAKb96gP2/Qj+VQFxAbn+Xf+cANr9pAdm9hAGOv3ZAfX8tQAdAw35lQY0+bQGIvt5/0gEuvrsBEX5xQZD/L3+mgO0+2QGcvcbCCn5+gT//nL9ZARm+o4GCve+CGj3cAPQAH76tgW6+K0GfvzX/1P9sQQ0ACf8DwXU+z8HFvpVA8kA6P8WAcL93gTN+S4HH/krA3sBSP3IAar5cAm7+ecD3vsYAh0D//i3CP/4DQQq/sQBEwHJ/QgDVv0nA1v+7ATL/Pb/jgArA5wChPnZAT4AQAMQ/bwAXgAj/qcA7P+oA2j5cgDUACQBNwDE+i4DHv2AAjcAN/0dAZP8SATS/iP+ngHQ/eMDv/0BAyn98fx8Buj7jAPB+rMB+AH6/yz9lQD6Arv5lQY+/aT+7P+XAez/agEd/HQBUQHQ/YIBd/w5Awv88wKA/w/+/f/6/YIDzP3X/+3+4AHsAH7+eQKV/X4B1ACV/3QBkf1WAjP/1wLh/Z3+8wIZ/lEB4f/h/9f9ugO9/NYBqv15AE4D/vkNBon8OwKF/osAQAPn+rgCFgGy/gUBQAEE/HsDgP+A/6n/EQAuAZkA8f6t/zUBd/6AAuX79QP2+/gDzP+A+T0I7P0G/0j9zQJMAFAAdP7EAZMBq/4uAWv/EgUs+xoB0gEbAML/3vtKAYQACgDl+8n/1gFD/OIC+PxG/BYFSP98/z79ZARK/uz9cgR0/lL/yf/jAQn/JAMw/eb+/gAgAd4ACPzWAfb/JgCsATP9ef8iAtD/ugEG/b7/CgJk/7gA4f1u/zACpQGj/a8BgABvAKwDr/xhArL+QgDbAsb7MgH8/J8C3v+D/ZUA5f8mAhn+agEUAN0Btv5RAYD/4gBr/4j+lQKy/AoEa/2TBdz6xgB8BED8IgSe+vgF//waAVcAtv6VANn8+AOD/TUBDf0DAjkBdf/o/3z9XQRf/q4Avv8NAO//Sv4TAXz/jP5eAOb+0//j/kUAPgBU/Cn/yAHPAQP94f97/nYCLv6W/tcA4PxyAgwBJgC0/TIBYv4rATQAMf65/oz+IgZD/HX9oACcADcCLvxGBeb+J/5pA6wB8wBY+j8FSP/J/aAAlf8rAdz8FgXM/UH96QAwBGQAmP8rAcz94P7J/8QHjv3L+kABBANvAJH/Hv/sAHv+WgAlBtz8wP5Y/g8D9wJD/G3+8/0WA1cAJ/7eAD7/gP+4ALoBSv5d/6gBxP4nAb3+SQC9/vH+KQKV/w3/Bv3GAuz/wv9QAHf+QAHm/msE6v6R/7wACAFRA9f99wAb/xQCqf/BASsBjv05ASkAXwE6/2sAQf9u/xgCFgEC/wH+4gAiAmgA1/2v/iQBfP2MAW0BF/1I+4X+2gYJ/4v52fxDBe4B//z7/m3+XgD6AOICtP+s+p3+tgPNAKv86vqw/zsCEwHX/RH7F/+HAhYD1f6r/Gv/dAP4A+X/G/0j/kADkQTQ/yv8Cf/qAyQDawC2/Oz9eQLQAmMBrftT/X0CCwPqAYT7K/yzAfgFswFt+rj9AQPcA4UBn/9A/K3/5QTAA4D9r/o7AkoDowIb/3L9rf/8AVsFnf62/CX/JwNmA5r+VP72/QUBugG7/4P94PzbAE4DvAAd/nD8/gDlBIkB2fxb/JwCzQKSAPH8Af7F/zQCMAI8/vz8P/6cBFEBufw5/IAAPAOA/9D9df17/iYAJAEw/6/8jP6/AnkCTf6x/VMAJwG/ADcAWP4z/1cACwM8ART9CP5mAaoC9v9Z/7b+rAFtAYAAZP0Z/koBcgCqAIr9Jf81AUoBowCP/mT/OwCJAXgBN/0q/sEBxAG6AZX97f4fAk8C2wBi/vr/MADZAbMBHwCv/qn/4AHsALL+Zv4fAIwBfQBP/3YA1f7uAagB8f69/v/+XwOr/h8A8f5W/8EBdf/ZAa/+awBMAhQCowCh/r8ArwEBAQH++v2HADcAKv6c/aL/0vz9/a39LP0S/t77OwB7/g3/hf6OAAgDQgB2AqgBOQNRAfcCbQNAAQYC4gByAsX/GwADAIP/7P8g/mD/4/5i/kb+Gf7L/mL+C/7z/Vv+Qf+t/2QAy/6D/xoBUAADABT/vACzAVcAyQDa/4f/7P+qAFcAFP/l//oA5QCY/63/hADlAFAAiwDe/7EAVQHwAF8BiwDiADwB1ADbAAAA1/9VAf3/a/9S/13/hwDZ/oP/YP9B/9f/Ov+K/87+zP8KAAoANwCf/6cAoADpAGEAMADjAbMB1ADs/wEB8AA7AKn/EQB8/6b/mQDv/47/3P4WAWgArf8bAIcAIAEpAFoAnP9I/77/AABI/4X+Av8tAMX/+/5y//v+g/+0/7D/tP8+/3z/7/+O/0//Ov+R//P/zP/2/0IA5f/T/4AANAAKAF3/hwCxAL7/UAAKAGsANwDe/ykAEQDX/wAA7P95AEIAJgDeAO//GACV/x8AIgCf/7v/jv8fAJj/cv+Y/3L/zP8KAOP+yf9CAGgAAACf/wMAqf/6/47/NACw/xsAqgB9AJwAUwDbAGEAdgDNANcAdgAtAL8AawBoADQA5f/v/zsAnABaAGD/8/9kAFoAcgBu//3/pv8DAMX/LP+c/5j/hADF/1L/t//2/0kAkf9P/5z/mP+t/5//1/+K/4D/dgDQ/5H/AADsAPoALQBkAEIA+v8GAGQANABMAAMANwD2/6L/AwA3ACkAvv8GALD/0P9u/0v/pv9n/9P/iv+0/6b/pv8wAAMANAAtADsARQBrAIcALQAwAFcATAAmALT/ov/Q/6L/sP+H/6L/6P8KABsA4f+V/+j/dgCLACkAbwCZAM0A5QAbAO//AwDJAFMAHwBJAFoAVwDv/z4AtP8GAFoAKQDz/6b/ZABQAAMA1//X/1cAGwCuAO//0/8iAD4AfQDT/zAAFACHAA0At/+H/0j/kf9S/4r/T//C/wYAFAC+/13/3v8RAAAA3v8RAFoA7P+3/77/mP/l/47/6P/J/8L/7/+i/woA1/8GAMn/WgBFAMX/KQDe/y0Au/++/woADQBoAHYAPgDC/+X/GAAiANP/xf9FAJIAMADh/3z/h/+K/8X/5f9P/+j/qf8NAF3/Xf8pAIQABQFvALEAeQDXAJkA+v/o/wAAVwBQACkAAwD6/xQAaAAGANr/2v83AFAAAAD2/9f/OwD6/+X/5f8fADQAOwDs/6L/u/+7//r/lf/M/5X/wv/v//b/CgDv/zcAIgAfAN7/FADe/zQAEQDl/+H/xf8UAMn/7/9L/4f/fP+7/wYAqf/s/xEAaADz//r/AABaAGsAZAA7ABEAVwBMAGgAyf8RAAYAQgA7APb/5f/J/x8AAwA+AAAAZAA3AEIANAD6/yIA7P9MABgAbwBXAGQAYQAYABQA7//z/8L/1/+A/6L/1//s//r/jv9d/4r/qf++/77/n//a/xgAHwADAP3/TACOAH0ATADs/9r/KQBaAEwA6P8AAC0ANAAiAPb/AADM/xgADQDh/+//NAB5APr/7P/J/woADQAYACYA6P8fAP3/RQDl/8n/5f/e/+z/df+m/4r/ov+A/0j/Xf9r/4D/fP+A/5X/gP9r/7T/qf/C/+z/KQAKABEABgAYAB8A5f8AAOX/GABJAHIAYQBQACkAAwA3AEwAQgA0AFAAcgBvAAYAwv+m/+X/EQAbAP3/BgBFABgA9v+V/+//KQBFACYA/f9CAF4AkgApABgAAABMAGEASQA0ABgAUAAwAGEADQAUABgAKQA3ADAAMAAUAC0A8//6/9D/AwAKAOj/pv+c/wAAMAAUANf/7P/6/1MAKQBaAGgAawCAAEIAUAAmAHYASQAYALf/rf/9//b/3v+7/wMAFAA7AO//DQD9/y0AUADo/+j/u/8fAPr/0P/h/+H/7P/C/7v/YP9P/4D/bv9E/x7/M/9L/yz/Jf8e/1L/h/9Z/0//LP9d/3z/kf+0/5//0//o/w0AFAAwADAASQB5AFcAVwBrAJUAgAB5AHYAdgBvAGEAUAAtACkAPgA+ACkAKQDv/xQAUAByAIAAlQC1AJUAhwA7ADAAVwB9AKcAuACcAIQAjgCOAH0AHwD9/xQAGwDv/77/df91/9P/1//C/5//h/+D/5j/qf+w/woAEQANAAAA7/8RABsASQBoAGgAMAA3ADQA+v/s/97/8//J/5z/ov/J//r/LQBvADsAQgA+ABgA5f+w/9D/1//v/9f/wv+i/63/n/+K/5z/0//z/wMA+v+f/4P/Wf+A/1L/Ov9P/0T/Xf9P/4r/S/9W/5H/h/+t/8L/2v/T//P/MABFAGQAeQBCACkASQBhAGQASQD9/+//BgAYAEUARQBeAFcAVwByAF4AWgB9AIsAiwCcAK4AoAB5AJkAkgBrAD4AGwAtAOz/5f/l/9f/9v8AAAYA8//J/9r/+v/X/8z/2v/h/wAAPgApACkATAA7AFcAOwAGABEAHwAYAA0A7P8AABQAEQD6/wYANwAmADsADQD6/wMA/f8NAO//CgA0ACYAHwAbABQAIgBCAG8AWgAtAAMAzP+i/4f/kf+H/4D/cv9B/0j/RP9P/5X/mP+t/9D/wv+t/4D/Uv8z/0j/gP+7/97/AAA0ACIA7//s/+//9v8RADsAJgANABEA/f8AAAAA+v/6//r/AwD2/97/8/8bAFAAbwCEAGsAGwDz/+H/3v/2/w0AJgBoAGgANwAAAL7/sP/J//3/FABXAHkAMAAtAAYA9v8UAAAAJgAYACkAVwAbAEwAiwCLALgApwCOAGQATABTAFcAUwA0ACkADQAGAP3/+v/e/9r/5f/e//r//f8bABsAAwAUABsAGwANAPP/4f/h//P/HwAbAO//7P/M/8z/1//C//b/AwANAPP/vv+w/5H/tP/M/+j/LQApAP3/AwAAAP3/MAAwACkAPgA+ACkAMAAfAP3/GAADABgAJgAAAAYA+v8DAA0A/f/s/6L/T/8U//j+//46/2D/a/95/1n/Wf91/5X/0P/6/xsANAA3ADcAGwDz/+z/4f/J/7f/n/+V/4D/YP9k/4r/tP/v/xEAEQD9/9r/7P/s/xsAaACgAKoAowC1ALEAuACuAJIAqgCAAEUARQA+AFoAWgBFADQABgDo//r/3v/T//3/AwADAOz/4f/e/9r/7P/2/wYALQA+AB8AIgAfABgAFAAGABEAQgBaADQAJgAbAAoAAwApAC0ABgDh/8n/2v/T//b/6P/T/6b/jv+3/8z//f/6/x8AOwBCAF4AZABaABEAFABMAGsAdgBoADsAAADT/7T/5f/6/+j/7P/Q/7f/yf/J/+X/EQAfADsAOwDv/8L/6P8GAAAA+v/2/+X/2v/s//P/zP++/6n/jv+c/5z/mP+K/4f/df+H/5//wv/F/4D/h/+A/2f/cv+K/7f/7P8iADcAJgAfAC0ANwAwADAAOwBJADsAUwB5AEwALQARAAMA7P/J/9P/6P/z//b/KQAtAB8APgBMAIAAhwCAAIAAXgBoAHYAkgDGALEAnACjAEIADQAiACkALQBXAIsAYQA+ABgA+v8bAAMAGwBXAEwAUAA3ACYAPgA0ABsALQAYAAoAEQDh/77/lf+O/6b/wv/6/xgAGAAGAOH/mP9r/2f/Wf9g/4f/mP+V/3n/Xf86/yz/RP95/5z/t//F/5//kf+m/8L/5f8KABEAIgA7ADQAEQDo/+H/7P/l/9f/5f/v/+X/4f/2/+X/wv++/8X/7P8AAPb//f/z/x8AKQAmADsATABXADAAAwAAABEAEQA0AFcAcgBvAG8AcgA0ADQATAA+AFcAUABJAEUAGAAAAOH/7P8NABEAIgAfACkAUwA3AEwAcgBrAHIAUwBCACYA/f/6//b//f8GAOz/yf+p/4P/jv+c/6L/3v/9/xEADQADAOj/0P+p/5X/u/+7/9r/wv/J/8n/n/+p/6b/rf+c/9P/FAAfABgAFAAiABQAAAANACkANAAKABEALQAUAAYAAAAKABsAQgA7ACkALQAYACIAQgBQAEUARQBCAB8AAwDe/8n/+v8AAAYACgD6/wAA1/+3/5j/iv+K/4D/mP+w/5H/g/+c/4r/n/+i/9D//f/X/+X/5f/2//r/AwA3ACIAGwAAABEAPgA3AEUAWgBXAEwAaAB9AGgAWgBkAHYAjgBvAGsAowCgAH0AYQBFABgA/f8fAF4AXgA3AEwAOwD9//r/9v+3/7v/7P/9/w0A7//l/9D/sP/e/xEAEQANACkANwAAALf/n//C/8L/u//X/63/lf+R/5z/rf+0/7D/ov+3/8n/0//T/8n/yf/l/+//+v/z/+//8/8AABEAHwBJAFcAPgAiAAAA9v/v//r/8//e//P/8//o/+H/0P/h/+X/7//a/7D/2v/z//b/9v8RABgAAAADABQAOwAmAAAAEQARAA0ADQAAAOj/xf+t/3z/nP/v/w0AEQAUAAYA7//6/wMA+v80AC0AFAAfAB8AHwAYADcARQBXAD4AFAAbADAAGwDs/+X/1//T/woAHwA0AH0AlQBhADcAMAAiAB8ARQBhAG8AVwA7AAAA5f/9/xsAKQAGACIAKQAfAPb/4f/2//b//f8KABsAHwANAPP/1//a/+H/7P/z/9D/xf+c/3z/ef9g/3L/pv/6/xQAEQD9/+H/6P/v//b/CgAYAB8AGwANAOX/wv/T/9P/yf/e/+X/4f/o//P/7//o/+X/8/8fABgADQANAPr/7//s/wAA9v/s//3/7//h/7T/kf+m/7f/yf/F/9P/6P/o/+X/5f/o/wMANAA0AAoABgAtABsAKQAwABgAKQANAP3/zP+7//P//f8UACYAFADs//P/HwA0AGQAmQDGAN4AsQBXAEwATABFAGEAdgCSAIAASQAtAC0ABgDz//3/DQA0ADAABgAtAEwAJgAtADsAGwDo/8X/t//T/+j/zP++/7f/qf/C/+H/8/8RAAYA+v/9/+//5f/l/+//5f/Q/63/kf+f/6L/t//J/9P/2v/l/+j/yf/6/xgADQAAAAMAEQAAAA0AKQBMAGgAPgBFAF4AJgDv/6n/bv9S/2T/h/+O/6b/mP95/5j/lf+f/8n/6P8GADQARQBCAFoAUABCACIA/f8AAOz/0//l/97/7P/a/8n/7P/o/+//+v/6/wMAIgA7AEUAFAD9//3/4f/l//3/HwBXAFcAVwBTADsAIgADAP3/AAAiADsAMAD6/8z/0P+m/6n/6P8RADAAOwANANr/vv/v//3//f8mADcARQA0ACIANAAwADAAXgBrAGgAeQB5AF4AWgBkADAALQAmAAMA/f/z/wYA3v/J/9r/DQAtABQAQgCAAHkAdgCEAG8AVwA7ABsAAADT/8L/tP+7/9D/2v++/6L/u/+7/7T/qf+i/5z/lf+7/8z/9v8DAOX/4f+3/7v/4f/o/wMADQD2/+X/7P/v/+X/6P/z/+H/0P/Q/77/9v8mACkAFAD6//P/zP/T/9P/u//M/9r/6P8AAAAAEQAfAB8ARQAfAPr/4f/o/w0AFAD2/+//+v/a/9P/tP+3/9r/7/8AAAoAPgBCADQAEQDe/+//EQA+AGsAhAB2ADsAKQAwABQAKQBJACIAGAAKAPb/0//C/8L/zP/h//b/9v/M/9r/9v8AAAoABgAtADcAFAAmAEIAOwAKAPP/7//a/+j/5f/J/9D/6P/l/+H/5f/s/wAA/f8UAB8A+v8NABsADQDh/77/ov95/3L/SP9n/5//xf/v/8z/7/8GAOH/3v/a/8z/vv/s/wYAGAAYADQAWgBFAEIAUABXAFcAYQBkAEwANAAiAEUANwAKAPb/7/8bACIAGAApAFAATAAmAAoABgAYABEAOwBeAFoATAAmAAYA0/+3/8n/BgAtABQACgDz/wMAAADQ/7T/rf+w/5H/qf/o/woAFAARADcAUwBaAHkAfQB5AFMAOwAtABEAFAAGABsAKQAUABQACgAAAO//1//X/8n/wv+c/4P/kf+R/7D/0P/6/w0AHwA7AFAARQAbAA0A3v+0/7T/pv+K/3X/df9g/3L/qf++/6n/n/+0/97/9v/l/9r/6P/9/wMAFAApABEAAwADAAoAFABTAJwAqgCcAIsAYQBFAEkAUwBoAGEAOwAUAAAA/f8AABEAGAARAB8AEQAGAAoAAwADAOz/6P8GAAYAEQAbAAoAAADh/77/qf+c/4D/gP95/13/Wf9k/47/jv+V/4r/bv95/5z/0//z/w0AGwARAAAA5f8DABsANAB5AJUAnACEAGQAUABCADcANwBCAD4ANwAbAC0AawCLAGgATABCAAYA9v8UAC0AVwB5AHIAfQB5AEwAYQBMABsAMAApADcAWgBaAEUAGAADAAYAEQBMAHYAXgBCAB8A8//v//3/AwD2/9P/vv+p/27/S/9I/3L/wv/M/8L/0//X/8z/t//X/yIAJgANAP3/+v/l/9D/0/+0/5j/lf+c/7f/3v/J/7v/tP+3/+H/5f/T/9D/0//J/8n/4f/e/9r/0P+3/77/u/+w/7D/mP+A/3L/fP+Y/8z/7P/e/97/zP/M/8z/qf++/7D/tP/Q/8z/4f/X/+H/AAD9/ykAOwAYAC0AMAAAAAoASQBQAGsArgCuAKcAlQCcAOkA/gD3AOUApwCAAGsAXgBTAFAAYQBJAB8ANAA7AEUAYQBTAHIAjgB5AGgAVwA0ACkAQgAwACkACgAKABgA/f/2/9f/u/+i/6L/pv+w/77/xf/F/7D/qf+p/7T/vv+c/7f/1/+7/7v/xf/J/8X/u/+D/2T/fP+O/7T/zP/T/9D/4f/s/+//AAD2/wAA/f/s/+j/6P/6//3//f8KACYADQDo//3/KQBQAGsAZABQACYA+v/T/7f/3v/h/9f/BgANAPb/AwAiADsAVwBMADsAMAADAAAAGAAAAA0AOwA3ACIAMABQAEwAVwBvAEwAIgANABgABgDX/9f/4f/Q/9P/8/8NAC0AJgAYABQA+v/o/+X/4f/6/+H/0//a/5z/lf+O/3z/n/+m/5H/nP+w/77/1/++/7f/zP/s/wAABgADAAAAFAAYAEkAWgBCADsAHwARABQA7//T/9D/t/+3/7f/tP/Q//r/EQAKADAAMAA0AGQAiwCqAH0AVwBXAEwANwA3AEkAUwBCAC0ALQAbADQAOwApACYADQAYABsACgD9/xEAEQD9/xQARQCAAIsAkgBrACkAFAADAAMA+v8DABQAAwAGAP3/9v/Q/7D/wv+Y/4f/h/9y/3L/Vv9k/4r/bv9k/4D/h/+R/5j/mP+c/5j/n/+3/+X/AwAfACIAGAAKAAoAFAAKACYAKQAYABQAAwAbACYAGAADAPP/BgDz/+X/+v8AAAoAGwAwAEUAQgBaAGEAPgBTAHIAYQBFACkANAAwACIAJgADAAMA+v/e/+H/+v8tADcAGwDs/+j/6P/Q/+z/AwANAAMABgAGANf/vv+c/4f/sP/a/+H/4f/T/8z/0//a/+//6P/s//r/7//v/woADQAAAAoALQApAB8ANwAbAC0AUwBTAFoAYQBQADcAKQAUAEIAWgA3ABsAGwAtABEA/f8AAP3/AAADAAAA+v/l/8n/xf/a/+//0//T/+H/zP+3/8L/3v/e//b/AwDl/+X/8/8DAAoA6P/T//b/5f/T/9f/u//J/+X/AAAfADAANwAiAAoAKQBXAGQAaABaADsAKQAYAB8ALQAfAA0AAAAAAOz/6P/h/8z/vv+Y/6L/t//C/9P/3v8GAC0ASQBQADQABgDX/8n/1//s/+//2v+7/6b/ov+Y/6n/xf/Q/8z/tP/C/7T/mP+O/63/7//s/wAA4f/F/+j/7/8NABQAGwAfABgAHwAmADsAQgA+AEkAWgBaAGQAawBoAGQAdgCHAIAAhwCZAMYAvACnAL8AsQB9AEIAGwAbAB8AGwAUAAoA/f/9/+H/sP+t/7f/4f8AAO//4f/z/+j/vv+3/8n/0P/e/8n/qf+m/4f/g/+V/6L/ov+Y/4f/jv+3/7T/xf/Q/9P/3v/o//3/7//M/7f/yf/e/+z/5f/e/9f/ov+K/6L/zP/h/9f/5f8NADAANwBMAEUANAA3AC0AIgAiAEIAVwBFABQAAADv/8n/xf/s/xQAIgA7AEUARQBFAGQAiwBvAEwAUAA0ACIAOwBJAFAASQA0ABQABgD2//P/+v/v/xQAKQAwAEIALQA+AFAAHwA0AG8AeQCHAIsAgABFAP3/7//s/+j/0/+0/4P/Xf9g/47/0/8UAD4AMAADAOX/zP+7/7T/1//2//P/5f+3/5X/df9r/3n/cv91/4r/n/+D/5H/wv/e/+H/xf/l/wYAGAAtAEkAUwAwABgA/f/X/77/zP/9/w0AEQANAAoACgAGAAYAAAAKAA0AGwA7AC0ANwBaAH0AawBTAEIAJgAwAD4ALQAfADcATAA0AAYA8//v//b/6P/6/wAA7/8RACYAEQDz//3/7P/l/wAACgApAEIAUABTAD4AWgBaADcAMAAfAAAA1//e/+j/3v/e/9f/xf+p/7v/yf/C/+j/AAAGAAoA4f/X/+X/1//o/+X/2v/l/+z/CgAfACYAJgAKACYALQAUAAoA0/+p/8n/5f++/6n/rf+t/6b/qf+i/6b/zP/J/9D/9v8AAAAAAADv//3/DQADAAoAFAAGAP3/BgAKACIAMAAUAAoACgADAA0AGwAfACkANwA3ACkAIgAbAAYAGwA+ADsAAAD6/wYAAAAAAMn/1//9/+//+v8GAPr/6P/h/9r/0//a/+H/9v/6/wMA3v/C/9r/5f/v/+H/4f/9//r/+v8GABEAEQAAAP3//f/9//r/+v8bADcAOwAbAAoAJgA3ADcAJgAbABEABgD9//r/8//Q/+//7//e//b/9v8KAEIAXgBXADcAOwBQAFMAMAAfADsAQgBCADcAPgA7AB8AGwBJAHYAcgBkAFoAWgBFACkAPgAfAOj/6P/J/97/AAAAAOz/tP+w/7f/yf/T/7v/t/+w/8n/5f/X/9D/2v/l/9P/3v/9/wAA/f/h/8n/zP+w/47/jv+Y/7D/0P++/7f/t/+w/9r/6P/v/wYAAwDz/+z/3v/a/+j/8//s/9r/4f/h/+j/8/8GABgAGwApAAAA6P/X/6L/t//a/8L/0P/X/7v/xf/M/8X/0//s/y0AgACjAI4AZABMADQAGwAwAGEAawBkAHIAaACHAKoAlQCOAIsAgAByAGQATAApAB8AAwAKAEIARQBeAA==\" type=\"audio/wav\" />\n",
       "                    Your browser does not support the audio element.\n",
       "                </audio>\n",
       "              "
      ],
      "text/plain": [
       "<IPython.lib.display.Audio object>"
      ]
     },
     "execution_count": 13,
     "metadata": {},
     "output_type": "execute_result"
    }
   ],
   "source": [
    "ipd.Audio(samples, rate=sample_rate)"
   ]
  },
  {
   "cell_type": "code",
   "execution_count": 14,
   "metadata": {},
   "outputs": [
    {
     "name": "stdout",
     "output_type": "stream",
     "text": [
      "16000\n"
     ]
    }
   ],
   "source": [
    "print(sample_rate)"
   ]
  },
  {
   "cell_type": "code",
   "execution_count": null,
   "metadata": {},
   "outputs": [],
   "source": []
  },
  {
   "cell_type": "raw",
   "metadata": {},
   "source": [
    "'''\n",
    "\n",
    ">> 重新取樣 - Resampling\n",
    "    >> 信號的採樣率為 16000 Hz\n",
    "    >> 重採樣到8000 hz\n",
    "    >> 大多數與語音相關的頻率\n",
    "        >> 都在8000 Hz中\n",
    "\n",
    "'''"
   ]
  },
  {
   "cell_type": "code",
   "execution_count": 15,
   "metadata": {
    "scrolled": true
   },
   "outputs": [
    {
     "data": {
      "text/html": [
       "\n",
       "                <audio controls=\"controls\" >\n",
       "                    <source src=\"data:audio/wav;base64,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\" type=\"audio/wav\" />\n",
       "                    Your browser does not support the audio element.\n",
       "                </audio>\n",
       "              "
      ],
      "text/plain": [
       "<IPython.lib.display.Audio object>"
      ]
     },
     "execution_count": 15,
     "metadata": {},
     "output_type": "execute_result"
    }
   ],
   "source": [
    "samples = librosa.resample(samples, sample_rate, 8000)\n",
    "ipd.Audio(samples, rate=8000)"
   ]
  },
  {
   "cell_type": "code",
   "execution_count": null,
   "metadata": {},
   "outputs": [],
   "source": []
  },
  {
   "cell_type": "raw",
   "metadata": {},
   "source": [
    "'''\n",
    "\n",
    ">> 檢查一下 每個語音命令的 Audio file 數量\n",
    "\n",
    "'''"
   ]
  },
  {
   "cell_type": "code",
   "execution_count": null,
   "metadata": {},
   "outputs": [],
   "source": []
  },
  {
   "cell_type": "code",
   "execution_count": 16,
   "metadata": {},
   "outputs": [],
   "source": [
    "labels=os.listdir(train_audio_path)"
   ]
  },
  {
   "cell_type": "code",
   "execution_count": 17,
   "metadata": {},
   "outputs": [
    {
     "data": {
      "text/plain": [
       "['bed',\n",
       " 'bird',\n",
       " 'cat',\n",
       " 'dog',\n",
       " 'down',\n",
       " 'eight',\n",
       " 'five',\n",
       " 'four',\n",
       " 'go',\n",
       " 'happy',\n",
       " 'house',\n",
       " 'left',\n",
       " 'marvin',\n",
       " 'nine',\n",
       " 'no',\n",
       " 'off',\n",
       " 'on',\n",
       " 'one',\n",
       " 'right',\n",
       " 'seven',\n",
       " 'sheila',\n",
       " 'six',\n",
       " 'stop',\n",
       " 'three',\n",
       " 'tree',\n",
       " 'two',\n",
       " 'up',\n",
       " 'wow',\n",
       " 'yes',\n",
       " 'zero']"
      ]
     },
     "execution_count": 17,
     "metadata": {},
     "output_type": "execute_result"
    }
   ],
   "source": [
    "os.listdir(train_audio_path)"
   ]
  },
  {
   "cell_type": "code",
   "execution_count": 18,
   "metadata": {},
   "outputs": [
    {
     "data": {
      "text/plain": [
       "30"
      ]
     },
     "execution_count": 18,
     "metadata": {},
     "output_type": "execute_result"
    }
   ],
   "source": [
    "len(os.listdir(train_audio_path))"
   ]
  },
  {
   "cell_type": "code",
   "execution_count": null,
   "metadata": {},
   "outputs": [],
   "source": []
  },
  {
   "cell_type": "raw",
   "metadata": {},
   "source": [
    "'''\n",
    "\n",
    ">> 建立條形圖並計數 - 每個標籤計數\n",
    "    >> Build up bar graph and plot for each label with count \n",
    "\n",
    "'''"
   ]
  },
  {
   "cell_type": "code",
   "execution_count": null,
   "metadata": {},
   "outputs": [],
   "source": []
  },
  {
   "cell_type": "code",
   "execution_count": 19,
   "metadata": {},
   "outputs": [
    {
     "data": {
      "image/png": "[encoded data removed]",
      "text/plain": [
       "<matplotlib.figure.Figure at 0x2b0759d69b0>"
      ]
     },
     "metadata": {},
     "output_type": "display_data"
    }
   ],
   "source": [
    "no_of_recordings=[]\n",
    "for label in labels:\n",
    "    waves = [f for f in os.listdir(train_audio_path + '/'+ label) if f.endswith('.wav')]\n",
    "    no_of_recordings.append(len(waves))\n",
    "    \n",
    "#plot\n",
    "plt.figure(figsize=(30,5))\n",
    "index = np.arange(len(labels))\n",
    "plt.bar(index, no_of_recordings)\n",
    "plt.xlabel('Commands', fontsize=12)\n",
    "plt.ylabel('No of recordings', fontsize=12)\n",
    "plt.xticks(index, labels, fontsize=15, rotation=60)\n",
    "plt.title('No. of recordings for each command')\n",
    "plt.show()"
   ]
  },
  {
   "cell_type": "code",
   "execution_count": 20,
   "metadata": {},
   "outputs": [],
   "source": [
    "labels=[\"yes\", \"no\", \"up\", \"down\", \"left\", \"right\", \"on\", \"off\", \"stop\", \"go\"]"
   ]
  },
  {
   "cell_type": "code",
   "execution_count": 21,
   "metadata": {},
   "outputs": [
    {
     "data": {
      "text/plain": [
       "10"
      ]
     },
     "execution_count": 21,
     "metadata": {},
     "output_type": "execute_result"
    }
   ],
   "source": [
    "len(labels)"
   ]
  },
  {
   "cell_type": "code",
   "execution_count": null,
   "metadata": {},
   "outputs": [],
   "source": []
  },
  {
   "cell_type": "raw",
   "metadata": {},
   "source": [
    "'''\n",
    "\n",
    ">> Audio File 錄音 時間 - Duration of recordings File \n",
    "\n",
    "'''"
   ]
  },
  {
   "cell_type": "code",
   "execution_count": null,
   "metadata": {},
   "outputs": [],
   "source": []
  },
  {
   "cell_type": "code",
   "execution_count": 22,
   "metadata": {},
   "outputs": [
    {
     "data": {
      "text/plain": [
       "(array([1.5000e+01, 3.0000e+01, 4.4000e+01, 1.3800e+02, 1.3600e+02,\n",
       "        1.7900e+02, 3.6600e+02, 4.3400e+02, 5.9300e+02, 2.1747e+04]),\n",
       " array([0.418 , 0.4762, 0.5344, 0.5926, 0.6508, 0.709 , 0.7672, 0.8254,\n",
       "        0.8836, 0.9418, 1.    ]),\n",
       " <a list of 10 Patch objects>)"
      ]
     },
     "execution_count": 22,
     "metadata": {},
     "output_type": "execute_result"
    },
    {
     "data": {
      "image/png": "[encoded data removed]",
      "text/plain": [
       "<matplotlib.figure.Figure at 0x2b07555c748>"
      ]
     },
     "metadata": {},
     "output_type": "display_data"
    }
   ],
   "source": [
    "duration_of_recordings=[]\n",
    "for label in labels:\n",
    "    waves = [f for f in os.listdir(train_audio_path + '/'+ label) if f.endswith('.wav')]\n",
    "    for wav in waves:\n",
    "        sample_rate, samples = wavfile.read(train_audio_path + '/' + label + '/' + wav)\n",
    "        duration_of_recordings.append(float(len(samples)/sample_rate))\n",
    "    \n",
    "plt.hist(np.array(duration_of_recordings))"
   ]
  },
  {
   "cell_type": "code",
   "execution_count": null,
   "metadata": {},
   "outputs": [],
   "source": []
  },
  {
   "cell_type": "raw",
   "metadata": {},
   "source": [
    "'''\n",
    "\n",
    ">> 音頻 - 預處理 - Preprocessing the audio waves\n",
    "\n",
    "    >> 前面的數據部分\n",
    "        >> 持續時間 少於1秒\n",
    "        >> 並且採樣率太高\n",
    "        \n",
    "    >> 下面的預處理步驟來處理此問題\n",
    "\n",
    "    這是我們要執行的兩個步驟：\n",
    "\n",
    "        >> 重採樣 \n",
    "            - Resampling\n",
    "        >> 刪除少於1秒的 短命令 \n",
    "            - Removing shorter commands of less than 1 second\n",
    "\n",
    "'''"
   ]
  },
  {
   "cell_type": "code",
   "execution_count": 23,
   "metadata": {},
   "outputs": [
    {
     "name": "stdout",
     "output_type": "stream",
     "text": [
      "yes\n",
      "no\n",
      "up\n",
      "down\n",
      "left\n",
      "right\n",
      "on\n",
      "off\n",
      "stop\n",
      "go\n",
      "Wall time: 7min 8s\n"
     ]
    }
   ],
   "source": [
    "%%time\n",
    "\n",
    "train_audio_path = 'input/tensorflow-speech-recognition-challenge/train/audio/'\n",
    "\n",
    "all_wave = []\n",
    "all_label = []\n",
    "for label in labels:\n",
    "    print(label)\n",
    "    waves = [f for f in os.listdir(train_audio_path + '/'+ label) if f.endswith('.wav')]\n",
    "    for wav in waves:\n",
    "        samples, sample_rate = librosa.load(train_audio_path + '/' + label + '/' + wav, sr = 16000)\n",
    "        samples = librosa.resample(samples, sample_rate, 8000)\n",
    "        if(len(samples)== 8000) : \n",
    "            all_wave.append(samples)\n",
    "            all_label.append(label)"
   ]
  },
  {
   "cell_type": "raw",
   "metadata": {},
   "source": [
    "'''\n",
    "\n",
    ">> 輸出標籤轉換為整數編碼 - Encoding Output Label \n",
    "\n",
    "\n",
    "'''"
   ]
  },
  {
   "cell_type": "code",
   "execution_count": null,
   "metadata": {},
   "outputs": [],
   "source": []
  },
  {
   "cell_type": "code",
   "execution_count": 24,
   "metadata": {},
   "outputs": [
    {
     "name": "stdout",
     "output_type": "stream",
     "text": [
      "10\n",
      "Wall time: 17 ms\n"
     ]
    }
   ],
   "source": [
    "%%time\n",
    "\n",
    "from sklearn.preprocessing import LabelEncoder\n",
    "le = LabelEncoder()\n",
    "y=le.fit_transform(all_label)\n",
    "classes= list(le.classes_)\n",
    "print(len(classes))"
   ]
  },
  {
   "cell_type": "code",
   "execution_count": 25,
   "metadata": {},
   "outputs": [
    {
     "data": {
      "text/plain": [
       "9"
      ]
     },
     "execution_count": 25,
     "metadata": {},
     "output_type": "execute_result"
    }
   ],
   "source": [
    "y[0]"
   ]
  },
  {
   "cell_type": "code",
   "execution_count": null,
   "metadata": {},
   "outputs": [],
   "source": []
  },
  {
   "cell_type": "raw",
   "metadata": {},
   "source": [
    "'''\n",
    "\n",
    ">> 熱編碼 - One-Hot-Encoding \n",
    ">> 整數編碼的標籤轉換為一個熱向量，因為它是一個多分類問題：\n",
    "    >> convert the integer encoded labels to a one-hot vector\n",
    "        >> multi-classification problem\n",
    "\n",
    "'''"
   ]
  },
  {
   "cell_type": "code",
   "execution_count": null,
   "metadata": {},
   "outputs": [],
   "source": []
  },
  {
   "cell_type": "code",
   "execution_count": 26,
   "metadata": {},
   "outputs": [
    {
     "name": "stderr",
     "output_type": "stream",
     "text": [
      "Using TensorFlow backend.\n"
     ]
    }
   ],
   "source": [
    "from keras.utils import np_utils\n",
    "y=np_utils.to_categorical(y, num_classes=len(labels))"
   ]
  },
  {
   "cell_type": "code",
   "execution_count": 27,
   "metadata": {},
   "outputs": [
    {
     "name": "stdout",
     "output_type": "stream",
     "text": [
      "21312\n"
     ]
    },
    {
     "data": {
      "text/plain": [
       "array([[0., 0., 0., 0., 0., 0., 0., 0., 0., 1.],\n",
       "       [0., 0., 0., 0., 0., 0., 0., 0., 0., 1.],\n",
       "       [0., 0., 0., 0., 0., 0., 0., 0., 0., 1.],\n",
       "       [0., 0., 0., 0., 0., 0., 0., 0., 0., 1.],\n",
       "       [0., 0., 0., 0., 0., 0., 0., 0., 0., 1.]], dtype=float32)"
      ]
     },
     "execution_count": 27,
     "metadata": {},
     "output_type": "execute_result"
    }
   ],
   "source": [
    "print(len(y))\n",
    "y[0:5]"
   ]
  },
  {
   "cell_type": "code",
   "execution_count": null,
   "metadata": {},
   "outputs": [],
   "source": []
  },
  {
   "cell_type": "raw",
   "metadata": {},
   "source": [
    "'''\n",
    "\n",
    ">> 2D數組  Reshape to 3D\n",
    "    >> conv1d的輸入- 必須是3D數組\n",
    "    >> Reshape the 2D array to 3D \n",
    "        >> the input to the conv 1d must be a 3D array:\n",
    "\n",
    "'''"
   ]
  },
  {
   "cell_type": "code",
   "execution_count": 28,
   "metadata": {},
   "outputs": [],
   "source": [
    "all_wave = np.array(all_wave).reshape(-1,8000,1)"
   ]
  },
  {
   "cell_type": "code",
   "execution_count": 29,
   "metadata": {},
   "outputs": [
    {
     "name": "stdout",
     "output_type": "stream",
     "text": [
      "[[-0.00288872]\n",
      " [-0.00409192]\n",
      " [-0.00325268]\n",
      " ...\n",
      " [-0.00071929]\n",
      " [-0.00112521]\n",
      " [-0.00130131]]\n",
      "(8000, 1)\n"
     ]
    },
    {
     "data": {
      "text/plain": [
       "21312"
      ]
     },
     "execution_count": 29,
     "metadata": {},
     "output_type": "execute_result"
    }
   ],
   "source": [
    "print(all_wave[0])\n",
    "print(all_wave[0].shape)\n",
    "len(all_wave)"
   ]
  },
  {
   "cell_type": "code",
   "execution_count": null,
   "metadata": {},
   "outputs": [],
   "source": []
  },
  {
   "cell_type": "raw",
   "metadata": {},
   "source": [
    "'''\n",
    "\n",
    ">> 訓練 和 驗證集\n",
    "    >> Split into train and validation set\n",
    "    \n",
    "    >> 80％的 數據上訓練模型\n",
    "    >> 20％的 數據上進行驗證\n",
    "\n",
    "'''"
   ]
  },
  {
   "cell_type": "code",
   "execution_count": null,
   "metadata": {},
   "outputs": [],
   "source": []
  },
  {
   "cell_type": "code",
   "execution_count": 30,
   "metadata": {},
   "outputs": [],
   "source": [
    "from sklearn.model_selection import train_test_split\n",
    "x_tr, x_val, y_tr, y_val = train_test_split(np.array(all_wave),np.array(y),stratify=y,test_size = 0.2,random_state=777,shuffle=True)"
   ]
  },
  {
   "cell_type": "code",
   "execution_count": 31,
   "metadata": {},
   "outputs": [
    {
     "name": "stdout",
     "output_type": "stream",
     "text": [
      "17049\n",
      "4263\n",
      "17049\n",
      "4263\n"
     ]
    }
   ],
   "source": [
    "print(len(x_tr))\n",
    "print(len(x_val))\n",
    "print(len(y_tr))\n",
    "print(len(y_val))"
   ]
  },
  {
   "cell_type": "code",
   "execution_count": null,
   "metadata": {},
   "outputs": [],
   "source": []
  },
  {
   "cell_type": "raw",
   "metadata": {},
   "source": [
    "'''\n",
    "\n",
    ">> 構建 語音到 文本模型 - Conv 1D\n",
    ">> Building conv 1D Model \n",
    "    >> Conv1d 是 - 一個卷積神經網絡，\n",
    "        >> 一個維度- 卷積\n",
    "\n",
    "'''"
   ]
  },
  {
   "cell_type": "code",
   "execution_count": 32,
   "metadata": {},
   "outputs": [
    {
     "name": "stdout",
     "output_type": "stream",
     "text": [
      "WARNING:tensorflow:From C:\\Users\\calvi\\Anaconda36\\lib\\site-packages\\tensorflow\\python\\framework\\op_def_library.py:263: colocate_with (from tensorflow.python.framework.ops) is deprecated and will be removed in a future version.\n",
      "Instructions for updating:\n",
      "Colocations handled automatically by placer.\n",
      "WARNING:tensorflow:From C:\\Users\\calvi\\Anaconda36\\lib\\site-packages\\keras\\backend\\tensorflow_backend.py:3445: calling dropout (from tensorflow.python.ops.nn_ops) with keep_prob is deprecated and will be removed in a future version.\n",
      "Instructions for updating:\n",
      "Please use `rate` instead of `keep_prob`. Rate should be set to `rate = 1 - keep_prob`.\n",
      "_________________________________________________________________\n",
      "Layer (type)                 Output Shape              Param #   \n",
      "=================================================================\n",
      "input_1 (InputLayer)         (None, 8000, 1)           0         \n",
      "_________________________________________________________________\n",
      "conv1d_1 (Conv1D)            (None, 7988, 8)           112       \n",
      "_________________________________________________________________\n",
      "max_pooling1d_1 (MaxPooling1 (None, 2662, 8)           0         \n",
      "_________________________________________________________________\n",
      "dropout_1 (Dropout)          (None, 2662, 8)           0         \n",
      "_________________________________________________________________\n",
      "conv1d_2 (Conv1D)            (None, 2652, 16)          1424      \n",
      "_________________________________________________________________\n",
      "max_pooling1d_2 (MaxPooling1 (None, 884, 16)           0         \n",
      "_________________________________________________________________\n",
      "dropout_2 (Dropout)          (None, 884, 16)           0         \n",
      "_________________________________________________________________\n",
      "conv1d_3 (Conv1D)            (None, 876, 32)           4640      \n",
      "_________________________________________________________________\n",
      "max_pooling1d_3 (MaxPooling1 (None, 292, 32)           0         \n",
      "_________________________________________________________________\n",
      "dropout_3 (Dropout)          (None, 292, 32)           0         \n",
      "_________________________________________________________________\n",
      "conv1d_4 (Conv1D)            (None, 286, 64)           14400     \n",
      "_________________________________________________________________\n",
      "max_pooling1d_4 (MaxPooling1 (None, 95, 64)            0         \n",
      "_________________________________________________________________\n",
      "dropout_4 (Dropout)          (None, 95, 64)            0         \n",
      "_________________________________________________________________\n",
      "flatten_1 (Flatten)          (None, 6080)              0         \n",
      "_________________________________________________________________\n",
      "dense_1 (Dense)              (None, 256)               1556736   \n",
      "_________________________________________________________________\n",
      "dropout_5 (Dropout)          (None, 256)               0         \n",
      "_________________________________________________________________\n",
      "dense_2 (Dense)              (None, 128)               32896     \n",
      "_________________________________________________________________\n",
      "dropout_6 (Dropout)          (None, 128)               0         \n",
      "_________________________________________________________________\n",
      "dense_3 (Dense)              (None, 10)                1290      \n",
      "=================================================================\n",
      "Total params: 1,611,498\n",
      "Trainable params: 1,611,498\n",
      "Non-trainable params: 0\n",
      "_________________________________________________________________\n"
     ]
    }
   ],
   "source": [
    "from keras.layers import Dense, Dropout, Flatten, Conv1D, Input, MaxPooling1D\n",
    "from keras.models import Model\n",
    "from keras.callbacks import EarlyStopping, ModelCheckpoint\n",
    "from keras import backend as K\n",
    "K.clear_session()\n",
    "\n",
    "inputs = Input(shape=(8000,1))\n",
    "\n",
    "#First Conv1D layer\n",
    "conv = Conv1D(8,13, padding='valid', activation='relu', strides=1)(inputs)\n",
    "conv = MaxPooling1D(3)(conv)\n",
    "conv = Dropout(0.3)(conv)\n",
    "\n",
    "#Second Conv1D layer\n",
    "conv = Conv1D(16, 11, padding='valid', activation='relu', strides=1)(conv)\n",
    "conv = MaxPooling1D(3)(conv)\n",
    "conv = Dropout(0.3)(conv)\n",
    "\n",
    "#Third Conv1D layer\n",
    "conv = Conv1D(32, 9, padding='valid', activation='relu', strides=1)(conv)\n",
    "conv = MaxPooling1D(3)(conv)\n",
    "conv = Dropout(0.3)(conv)\n",
    "\n",
    "#Fourth Conv1D layer\n",
    "conv = Conv1D(64, 7, padding='valid', activation='relu', strides=1)(conv)\n",
    "conv = MaxPooling1D(3)(conv)\n",
    "conv = Dropout(0.3)(conv)\n",
    "\n",
    "#Flatten layer\n",
    "conv = Flatten()(conv)\n",
    "\n",
    "#Dense Layer 1\n",
    "conv = Dense(256, activation='relu')(conv)\n",
    "conv = Dropout(0.3)(conv)\n",
    "\n",
    "#Dense Layer 2\n",
    "conv = Dense(128, activation='relu')(conv)\n",
    "conv = Dropout(0.3)(conv)\n",
    "\n",
    "outputs = Dense(len(labels), activation='softmax')(conv)\n",
    "\n",
    "model = Model(inputs, outputs)\n",
    "model.summary()"
   ]
  },
  {
   "cell_type": "code",
   "execution_count": null,
   "metadata": {},
   "outputs": [],
   "source": []
  },
  {
   "cell_type": "raw",
   "metadata": {},
   "source": [
    "'''\n",
    "\n",
    ">> 定義 model.compile 損失函數 - multi-classification\n",
    "    >> loss function =  categorical cross-entropy\n",
    "    >> optimizer     =  adam\n",
    "    >> metrics       = ['accuracy']\n",
    "    \n",
    "'''"
   ]
  },
  {
   "cell_type": "code",
   "execution_count": null,
   "metadata": {},
   "outputs": [],
   "source": []
  },
  {
   "cell_type": "code",
   "execution_count": 105,
   "metadata": {},
   "outputs": [],
   "source": [
    "model.compile(loss='categorical_crossentropy',optimizer='adam',metrics=['accuracy'])"
   ]
  },
  {
   "cell_type": "code",
   "execution_count": null,
   "metadata": {},
   "outputs": [],
   "source": []
  },
  {
   "cell_type": "raw",
   "metadata": {},
   "source": [
    "'''\n",
    "\n",
    ">> Callbacks功能\n",
    "    >> 提前停止和模型檢查點\n",
    "    >> callbacks Function - Early stopping and model checkpoints are the callbacks to stop training the neural network\n",
    "\n",
    "'''"
   ]
  },
  {
   "cell_type": "code",
   "execution_count": null,
   "metadata": {},
   "outputs": [],
   "source": []
  },
  {
   "cell_type": "code",
   "execution_count": 106,
   "metadata": {},
   "outputs": [],
   "source": [
    "es = EarlyStopping(monitor='val_loss', mode='min', verbose=1, patience=10, min_delta=0.0001) \n",
    "mc = ModelCheckpoint('best_model.hdf5', monitor='val_acc', verbose=1, save_best_only=True, mode='max')"
   ]
  },
  {
   "cell_type": "code",
   "execution_count": null,
   "metadata": {},
   "outputs": [],
   "source": []
  },
  {
   "cell_type": "raw",
   "metadata": {},
   "source": [
    "'''\n",
    "\n",
    ">> Train the model - batch size of 32\n",
    ">> Batch - 32 的 批處理量\n",
    "    >> 訓練模型\n",
    "    >> 評估保留集的性能：\n",
    "    >> Evaluate the performance on the holdout set\n",
    "\n",
    "\n",
    "'''"
   ]
  },
  {
   "cell_type": "code",
   "execution_count": null,
   "metadata": {},
   "outputs": [],
   "source": []
  },
  {
   "cell_type": "code",
   "execution_count": 107,
   "metadata": {
    "scrolled": true
   },
   "outputs": [
    {
     "name": "stdout",
     "output_type": "stream",
     "text": [
      "WARNING:tensorflow:From C:\\Users\\calvi\\Anaconda36\\lib\\site-packages\\tensorflow\\python\\ops\\math_ops.py:3066: to_int32 (from tensorflow.python.ops.math_ops) is deprecated and will be removed in a future version.\n",
      "Instructions for updating:\n",
      "Use tf.cast instead.\n",
      "Train on 17049 samples, validate on 4263 samples\n",
      "Epoch 1/100\n",
      "17049/17049 [==============================] - 92s 5ms/step - loss: 2.0327 - acc: 0.2283 - val_loss: 1.5840 - val_acc: 0.4401\n",
      "\n",
      "Epoch 00001: val_acc improved from -inf to 0.44007, saving model to best_model.hdf5\n",
      "Epoch 2/100\n",
      "17049/17049 [==============================] - 90s 5ms/step - loss: 1.4789 - acc: 0.4532 - val_loss: 1.3499 - val_acc: 0.5093\n",
      "\n",
      "Epoch 00002: val_acc improved from 0.44007 to 0.50927, saving model to best_model.hdf5\n",
      "Epoch 3/100\n",
      "17049/17049 [==============================] - 90s 5ms/step - loss: 1.2629 - acc: 0.5455 - val_loss: 1.2019 - val_acc: 0.5752\n",
      "\n",
      "Epoch 00003: val_acc improved from 0.50927 to 0.57518, saving model to best_model.hdf5\n",
      "Epoch 4/100\n",
      "17049/17049 [==============================] - 89s 5ms/step - loss: 1.0805 - acc: 0.6216 - val_loss: 1.0688 - val_acc: 0.6040\n",
      "\n",
      "Epoch 00004: val_acc improved from 0.57518 to 0.60403, saving model to best_model.hdf5\n",
      "Epoch 5/100\n",
      "17049/17049 [==============================] - 88s 5ms/step - loss: 0.9460 - acc: 0.6725 - val_loss: 0.8220 - val_acc: 0.7108\n",
      "\n",
      "Epoch 00005: val_acc improved from 0.60403 to 0.71077, saving model to best_model.hdf5\n",
      "Epoch 6/100\n",
      "17049/17049 [==============================] - 90s 5ms/step - loss: 0.8258 - acc: 0.7121 - val_loss: 0.7467 - val_acc: 0.7389\n",
      "\n",
      "Epoch 00006: val_acc improved from 0.71077 to 0.73892, saving model to best_model.hdf5\n",
      "Epoch 7/100\n",
      "17049/17049 [==============================] - 88s 5ms/step - loss: 0.7584 - acc: 0.7355 - val_loss: 0.7328 - val_acc: 0.7469\n",
      "\n",
      "Epoch 00007: val_acc improved from 0.73892 to 0.74689, saving model to best_model.hdf5\n",
      "Epoch 8/100\n",
      "17049/17049 [==============================] - 88s 5ms/step - loss: 0.6919 - acc: 0.7600 - val_loss: 0.6561 - val_acc: 0.7732\n",
      "\n",
      "Epoch 00008: val_acc improved from 0.74689 to 0.77316, saving model to best_model.hdf5\n",
      "Epoch 9/100\n",
      "17049/17049 [==============================] - 88s 5ms/step - loss: 0.6432 - acc: 0.7774 - val_loss: 0.6681 - val_acc: 0.7830\n",
      "\n",
      "Epoch 00009: val_acc improved from 0.77316 to 0.78302, saving model to best_model.hdf5\n",
      "Epoch 10/100\n",
      "17049/17049 [==============================] - 89s 5ms/step - loss: 0.6119 - acc: 0.7887 - val_loss: 0.6464 - val_acc: 0.7816\n",
      "\n",
      "Epoch 00010: val_acc did not improve from 0.78302\n",
      "Epoch 11/100\n",
      "17049/17049 [==============================] - 88s 5ms/step - loss: 0.5876 - acc: 0.8001 - val_loss: 0.5640 - val_acc: 0.8203\n",
      "\n",
      "Epoch 00011: val_acc improved from 0.78302 to 0.82031, saving model to best_model.hdf5\n",
      "Epoch 12/100\n",
      "17049/17049 [==============================] - 88s 5ms/step - loss: 0.5341 - acc: 0.8154 - val_loss: 0.5987 - val_acc: 0.7912\n",
      "\n",
      "Epoch 00012: val_acc did not improve from 0.82031\n",
      "Epoch 13/100\n",
      "17049/17049 [==============================] - 89s 5ms/step - loss: 0.5234 - acc: 0.8176 - val_loss: 0.5612 - val_acc: 0.8114\n",
      "\n",
      "Epoch 00013: val_acc did not improve from 0.82031\n",
      "Epoch 14/100\n",
      "17049/17049 [==============================] - 88s 5ms/step - loss: 0.5016 - acc: 0.8269 - val_loss: 0.5357 - val_acc: 0.8215\n",
      "\n",
      "Epoch 00014: val_acc improved from 0.82031 to 0.82149, saving model to best_model.hdf5\n",
      "Epoch 15/100\n",
      "17049/17049 [==============================] - 88s 5ms/step - loss: 0.4817 - acc: 0.8324 - val_loss: 0.5585 - val_acc: 0.8112\n",
      "\n",
      "Epoch 00015: val_acc did not improve from 0.82149\n",
      "Epoch 16/100\n",
      "17049/17049 [==============================] - 88s 5ms/step - loss: 0.4695 - acc: 0.8378 - val_loss: 0.5348 - val_acc: 0.8271\n",
      "\n",
      "Epoch 00016: val_acc improved from 0.82149 to 0.82712, saving model to best_model.hdf5\n",
      "Epoch 17/100\n",
      "17049/17049 [==============================] - 89s 5ms/step - loss: 0.4637 - acc: 0.8413 - val_loss: 0.5061 - val_acc: 0.8353\n",
      "\n",
      "Epoch 00017: val_acc improved from 0.82712 to 0.83533, saving model to best_model.hdf5\n",
      "Epoch 18/100\n",
      "17049/17049 [==============================] - 88s 5ms/step - loss: 0.4319 - acc: 0.8476 - val_loss: 0.4934 - val_acc: 0.8327\n",
      "\n",
      "Epoch 00018: val_acc did not improve from 0.83533\n",
      "Epoch 19/100\n",
      "17049/17049 [==============================] - 88s 5ms/step - loss: 0.4323 - acc: 0.8517 - val_loss: 0.5071 - val_acc: 0.8365\n",
      "\n",
      "Epoch 00019: val_acc improved from 0.83533 to 0.83650, saving model to best_model.hdf5\n",
      "Epoch 20/100\n",
      "17049/17049 [==============================] - 89s 5ms/step - loss: 0.4175 - acc: 0.8575 - val_loss: 0.5385 - val_acc: 0.8276\n",
      "\n",
      "Epoch 00020: val_acc did not improve from 0.83650\n",
      "Epoch 21/100\n",
      "17049/17049 [==============================] - 88s 5ms/step - loss: 0.3984 - acc: 0.8627 - val_loss: 0.5174 - val_acc: 0.8309\n",
      "\n",
      "Epoch 00021: val_acc did not improve from 0.83650\n",
      "Epoch 22/100\n",
      "17049/17049 [==============================] - 88s 5ms/step - loss: 0.3859 - acc: 0.8645 - val_loss: 0.5602 - val_acc: 0.8210\n",
      "\n",
      "Epoch 00022: val_acc did not improve from 0.83650\n",
      "Epoch 23/100\n",
      "17049/17049 [==============================] - 88s 5ms/step - loss: 0.3821 - acc: 0.8684 - val_loss: 0.5424 - val_acc: 0.8245\n",
      "\n",
      "Epoch 00023: val_acc did not improve from 0.83650\n",
      "Epoch 24/100\n",
      "17049/17049 [==============================] - 89s 5ms/step - loss: 0.3806 - acc: 0.8680 - val_loss: 0.4837 - val_acc: 0.8407\n",
      "\n",
      "Epoch 00024: val_acc improved from 0.83650 to 0.84072, saving model to best_model.hdf5\n",
      "Epoch 25/100\n",
      "17049/17049 [==============================] - 88s 5ms/step - loss: 0.3665 - acc: 0.8721 - val_loss: 0.4806 - val_acc: 0.8405\n",
      "\n",
      "Epoch 00025: val_acc did not improve from 0.84072\n",
      "Epoch 26/100\n",
      "17049/17049 [==============================] - 88s 5ms/step - loss: 0.3616 - acc: 0.8761 - val_loss: 0.5039 - val_acc: 0.8405\n",
      "\n",
      "Epoch 00026: val_acc did not improve from 0.84072\n",
      "Epoch 27/100\n",
      "17049/17049 [==============================] - 89s 5ms/step - loss: 0.3350 - acc: 0.8845 - val_loss: 0.5076 - val_acc: 0.8386\n",
      "\n",
      "Epoch 00027: val_acc did not improve from 0.84072\n",
      "Epoch 28/100\n",
      "17049/17049 [==============================] - 88s 5ms/step - loss: 0.3341 - acc: 0.8852 - val_loss: 0.4990 - val_acc: 0.8431\n",
      "\n",
      "Epoch 00028: val_acc improved from 0.84072 to 0.84307, saving model to best_model.hdf5\n",
      "Epoch 29/100\n",
      "17049/17049 [==============================] - 88s 5ms/step - loss: 0.3385 - acc: 0.8829 - val_loss: 0.5022 - val_acc: 0.8403\n",
      "\n",
      "Epoch 00029: val_acc did not improve from 0.84307\n",
      "Epoch 30/100\n",
      "17049/17049 [==============================] - 87s 5ms/step - loss: 0.3291 - acc: 0.8904 - val_loss: 0.4986 - val_acc: 0.8421\n",
      "\n",
      "Epoch 00030: val_acc did not improve from 0.84307\n",
      "Epoch 31/100\n",
      "17049/17049 [==============================] - 89s 5ms/step - loss: 0.3196 - acc: 0.8896 - val_loss: 0.4843 - val_acc: 0.8461\n",
      "\n",
      "Epoch 00031: val_acc improved from 0.84307 to 0.84612, saving model to best_model.hdf5\n",
      "Epoch 32/100\n",
      "17049/17049 [==============================] - 88s 5ms/step - loss: 0.3171 - acc: 0.8924 - val_loss: 0.5397 - val_acc: 0.8306\n",
      "\n",
      "Epoch 00032: val_acc did not improve from 0.84612\n",
      "Epoch 33/100\n",
      "17049/17049 [==============================] - 88s 5ms/step - loss: 0.3076 - acc: 0.8936 - val_loss: 0.4832 - val_acc: 0.8487\n",
      "\n",
      "Epoch 00033: val_acc improved from 0.84612 to 0.84870, saving model to best_model.hdf5\n",
      "Epoch 34/100\n",
      "17049/17049 [==============================] - 88s 5ms/step - loss: 0.2965 - acc: 0.9017 - val_loss: 0.5025 - val_acc: 0.8414\n",
      "\n",
      "Epoch 00034: val_acc did not improve from 0.84870\n",
      "Epoch 35/100\n",
      "17049/17049 [==============================] - 88s 5ms/step - loss: 0.2957 - acc: 0.8982 - val_loss: 0.4953 - val_acc: 0.8447\n",
      "\n",
      "Epoch 00035: val_acc did not improve from 0.84870\n",
      "Epoch 00035: early stopping\n"
     ]
    }
   ],
   "source": [
    "%%time\n",
    "\n",
    "history=model.fit(x_tr, y_tr ,epochs=100, callbacks=[es,mc], batch_size=32, validation_data=(x_val,y_val))"
   ]
  },
  {
   "cell_type": "code",
   "execution_count": null,
   "metadata": {},
   "outputs": [],
   "source": []
  },
  {
   "cell_type": "raw",
   "metadata": {},
   "source": [
    "'''\n",
    "\n",
    ">> 可視化  plot - visualization\n",
    "    >> 模型的性能\n",
    "\n",
    "'''"
   ]
  },
  {
   "cell_type": "code",
   "execution_count": null,
   "metadata": {},
   "outputs": [],
   "source": []
  },
  {
   "cell_type": "code",
   "execution_count": 108,
   "metadata": {},
   "outputs": [
    {
     "data": {
      "image/png": "[encoded data removed]",
      "text/plain": [
       "<matplotlib.figure.Figure at 0x1f992303d68>"
      ]
     },
     "metadata": {},
     "output_type": "display_data"
    }
   ],
   "source": [
    "from matplotlib import pyplot\n",
    "pyplot.plot(history.history['loss'], label='train')\n",
    "pyplot.plot(history.history['val_loss'], label='test')\n",
    "pyplot.legend()\n",
    "pyplot.show()"
   ]
  },
  {
   "cell_type": "code",
   "execution_count": null,
   "metadata": {},
   "outputs": [],
   "source": []
  },
  {
   "cell_type": "raw",
   "metadata": {},
   "source": [
    "'''\n",
    "\n",
    ">> 載入模型 - Loading the model\n",
    "    >> best_model.hdf5\n",
    "\n",
    "'''"
   ]
  },
  {
   "cell_type": "code",
   "execution_count": null,
   "metadata": {},
   "outputs": [],
   "source": []
  },
  {
   "cell_type": "code",
   "execution_count": 34,
   "metadata": {},
   "outputs": [],
   "source": [
    "from keras.models import load_model\n",
    "model=load_model('best_model.hdf5')"
   ]
  },
  {
   "cell_type": "code",
   "execution_count": null,
   "metadata": {},
   "outputs": [],
   "source": []
  },
  {
   "cell_type": "raw",
   "metadata": {},
   "source": [
    "'''\n",
    "\n",
    ">> 預測 - 給定音頻文本 Text \n",
    "    >> Predicts Audio File after given text \n",
    "\n",
    "'''"
   ]
  },
  {
   "cell_type": "code",
   "execution_count": null,
   "metadata": {},
   "outputs": [],
   "source": []
  },
  {
   "cell_type": "code",
   "execution_count": 37,
   "metadata": {},
   "outputs": [],
   "source": [
    "def predict(audio):\n",
    "    prob=model.predict(audio.reshape(1,8000,1))\n",
    "    index=np.argmax(prob[0])\n",
    "    return classes[index]"
   ]
  },
  {
   "cell_type": "code",
   "execution_count": null,
   "metadata": {},
   "outputs": [],
   "source": []
  },
  {
   "cell_type": "raw",
   "metadata": {},
   "source": [
    "'''\n",
    "\n",
    ">> 預測-驗證數據 - 音頻文件\n",
    "    >> Prediction -   validation data - Audio File  \n",
    "    \n",
    "'''"
   ]
  },
  {
   "cell_type": "code",
   "execution_count": null,
   "metadata": {},
   "outputs": [],
   "source": []
  },
  {
   "cell_type": "code",
   "execution_count": 40,
   "metadata": {},
   "outputs": [
    {
     "name": "stdout",
     "output_type": "stream",
     "text": [
      "Audio: off\n"
     ]
    },
    {
     "data": {
      "text/html": [
       "\n",
       "                <audio controls=\"controls\" >\n",
       "                    <source src=\"data:audio/wav;base64,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\" type=\"audio/wav\" />\n",
       "                    Your browser does not support the audio element.\n",
       "                </audio>\n",
       "              "
      ],
      "text/plain": [
       "<IPython.lib.display.Audio object>"
      ]
     },
     "execution_count": 40,
     "metadata": {},
     "output_type": "execute_result"
    }
   ],
   "source": [
    "import random\n",
    "index=random.randint(0,len(x_val)-1)\n",
    "samples=x_val[index].ravel()\n",
    "print(\"Audio:\",classes[np.argmax(y_val[index])])\n",
    "ipd.Audio(samples, rate=8000)"
   ]
  },
  {
   "cell_type": "code",
   "execution_count": 41,
   "metadata": {},
   "outputs": [
    {
     "name": "stdout",
     "output_type": "stream",
     "text": [
      "Text: off\n"
     ]
    }
   ],
   "source": [
    "print(\"Text:\",predict(samples))"
   ]
  },
  {
   "cell_type": "code",
   "execution_count": null,
   "metadata": {},
   "outputs": [],
   "source": []
  },
  {
   "cell_type": "raw",
   "metadata": {},
   "source": [
    "'''\n",
    "\n",
    ">> 錄製自己的語音命令- 進行測試\n",
    "    >> Record your own voice commands and test\n",
    "\n",
    "'''"
   ]
  },
  {
   "cell_type": "code",
   "execution_count": null,
   "metadata": {},
   "outputs": [],
   "source": []
  },
  {
   "cell_type": "code",
   "execution_count": 42,
   "metadata": {},
   "outputs": [
    {
     "name": "stdout",
     "output_type": "stream",
     "text": [
      "start\n",
      "end\n"
     ]
    }
   ],
   "source": [
    "import sounddevice as sd\n",
    "import soundfile as sf\n",
    "\n",
    "samplerate = 16000  \n",
    "duration = 1 # seconds\n",
    "filename = 'yes.wav'\n",
    "print(\"start\")\n",
    "mydata = sd.rec(int(samplerate * duration), samplerate=samplerate,\n",
    "    channels=1, blocking=True)\n",
    "print(\"end\")\n",
    "sd.wait()\n",
    "sf.write(filename, mydata, samplerate)"
   ]
  },
  {
   "cell_type": "raw",
   "metadata": {},
   "source": [
    "'''\n",
    "\n",
    ">> 保存的語音命令 - yes.wav\n",
    "    >> 並將轉換為文本 Text \n",
    "\n",
    "'''"
   ]
  },
  {
   "cell_type": "code",
   "execution_count": null,
   "metadata": {},
   "outputs": [],
   "source": []
  },
  {
   "cell_type": "code",
   "execution_count": 43,
   "metadata": {},
   "outputs": [],
   "source": [
    "filepath='yes.wav'"
   ]
  },
  {
   "cell_type": "code",
   "execution_count": 44,
   "metadata": {},
   "outputs": [
    {
     "data": {
      "text/html": [
       "\n",
       "                <audio controls=\"controls\" >\n",
       "                    <source src=\"data:audio/wav;base64,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\" type=\"audio/wav\" />\n",
       "                    Your browser does not support the audio element.\n",
       "                </audio>\n",
       "              "
      ],
      "text/plain": [
       "<IPython.lib.display.Audio object>"
      ]
     },
     "execution_count": 44,
     "metadata": {},
     "output_type": "execute_result"
    }
   ],
   "source": [
    "#讀取 語音命令 - voice commands\n",
    "samples, sample_rate = librosa.load(filepath , sr = 16000)\n",
    "samples = librosa.resample(samples, sample_rate, 8000)\n",
    "ipd.Audio(samples,rate=8000)              "
   ]
  },
  {
   "cell_type": "code",
   "execution_count": 45,
   "metadata": {},
   "outputs": [
    {
     "data": {
      "text/plain": [
       "'yes'"
      ]
     },
     "execution_count": 45,
     "metadata": {},
     "output_type": "execute_result"
    }
   ],
   "source": [
    "# 語音命令 voice commands  轉換為 文本 text\n",
    "predict(samples)"
   ]
  },
  {
   "cell_type": "code",
   "execution_count": null,
   "metadata": {},
   "outputs": [],
   "source": []
  },
  {
   "cell_type": "code",
   "execution_count": 46,
   "metadata": {},
   "outputs": [],
   "source": [
    "filepath='input/voice-commands/prateek_voice_v2'"
   ]
  },
  {
   "cell_type": "code",
   "execution_count": 47,
   "metadata": {},
   "outputs": [
    {
     "data": {
      "text/html": [
       "\n",
       "                <audio controls=\"controls\" >\n",
       "                    <source src=\"data:audio/wav;base64,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\" type=\"audio/wav\" />\n",
       "                    Your browser does not support the audio element.\n",
       "                </audio>\n",
       "              "
      ],
      "text/plain": [
       "<IPython.lib.display.Audio object>"
      ]
     },
     "execution_count": 47,
     "metadata": {},
     "output_type": "execute_result"
    }
   ],
   "source": [
    "#讀取 語音命令 - voice commands\n",
    "samples, sample_rate = librosa.load(filepath + '/' + 'stop.wav', sr = 16000)\n",
    "samples = librosa.resample(samples, sample_rate, 8000)\n",
    "ipd.Audio(samples,rate=8000)              "
   ]
  },
  {
   "cell_type": "code",
   "execution_count": 48,
   "metadata": {},
   "outputs": [
    {
     "data": {
      "text/plain": [
       "'stop'"
      ]
     },
     "execution_count": 48,
     "metadata": {},
     "output_type": "execute_result"
    }
   ],
   "source": [
    "# 語音命令 voice commands  轉換為 文本 text\n",
    "predict(samples)"
   ]
  },
  {
   "cell_type": "code",
   "execution_count": null,
   "metadata": {},
   "outputs": [],
   "source": []
  }
 ],
 "metadata": {
  "kernelspec": {
   "display_name": "Python 3",
   "language": "python",
   "name": "python3"
  },
  "language_info": {
   "codemirror_mode": {
    "name": "ipython",
    "version": 3
   },
   "file_extension": ".py",
   "mimetype": "text/x-python",
   "name": "python",
   "nbconvert_exporter": "python",
   "pygments_lexer": "ipython3",
   "version": "3.6.4"
  }
 },
 "nbformat": 4,
 "nbformat_minor": 1
}
